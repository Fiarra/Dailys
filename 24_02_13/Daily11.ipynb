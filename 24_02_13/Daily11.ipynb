{
 "cells": [
  {
   "cell_type": "code",
   "execution_count": 1,
   "metadata": {},
   "outputs": [],
   "source": [
    "import os\n",
    "from dotenv import load_dotenv\n",
    "import openai\n",
    "import csv\n",
    "import pandas as pd\n",
    "from openai import OpenAI\n",
    "import json\n"
   ]
  },
  {
   "cell_type": "code",
   "execution_count": 2,
   "metadata": {},
   "outputs": [],
   "source": [
    "# Load environment variables\n",
    "load_dotenv()\n",
    "openai_api_key = os.getenv(\"OPENAI_API_KEY\")\n",
    "if not openai_api_key:\n",
    "    raise ValueError(\"No OpenAI API key found. Check your .env file.\")"
   ]
  },
  {
   "cell_type": "code",
   "execution_count": 3,
   "metadata": {},
   "outputs": [],
   "source": [
    "# Set the API key for OpenAI\n",
    "openai.api_key = openai_api_key"
   ]
  },
  {
   "cell_type": "code",
   "execution_count": 4,
   "metadata": {},
   "outputs": [],
   "source": [
    "reviews = [\n",
    "    \"Absolutely epic! Building this set was like stepping back into my childhood dreams. The nostalgia and intricate design deserve a five-star rating!\",\n",
    "    \"The attention to detail is phenomenal, yet the assembly was a lengthy endeavor. Nonetheless, the final result is undoubtedly worth the time and effort.\",\n",
    "    \"Disappointed due to missing pieces in my set, which led to a frustrating building experience. Unfortunately, I can only give it 2 stars.\",\n",
    "   \"Incredible design that captivated both my kids and me. We had a blast piecing it together. I highly recommend it for family bonding time.\",\n",
    "   \"Its enormous size is overwhelming and consumes a lot of space. In hindsight, I regret the purchase due to its impracticality.\",\n",
    "   \"A true masterpiece that resonates with any Star Wars aficionado. The price is steep, but the authenticity and quality justify the cost.\",\n",
    "   \"The instructions were perplexing and at times, overwhelming. This set is challenging and requires patience and dedication.\",\n",
    "   \"I'm halfway through the build, and it already looks stunning. It's a challenging project, but incredibly rewarding and enjoyable.\",\n",
    "   \"This set is quite complex and not really suitable for children. It leans more towards adult Lego enthusiasts due to its intricate details.\",\n",
    "   \"Absolutely love it! It's the perfect crowning jewel for my Star Wars collection and a testament to my fandom.\",\n",
    "   \"The build is decent, but it falls short of my expectations in terms of interactive features, especially considering the price point.\",\n",
    "   \"The set broke apart after just a week, which is disappointing and raises questions about the quality, given the high price.\",\n",
    "   \"Building this set felt like a journey through the galaxy, mirroring the epic scope of the Star Wars movies. A truly epic experience.\",\n",
    "   \"I found it to be overrated. At the end of the day, it's a collection of bricks that doesn't live up to the hype.\",\n",
    "   \"Building this was magical! It feels like I've constructed my very own Death Star. A must-have for fans, and may the force be with all builders!\",\n",
    "   \"The instructions were clear and concise, and the pieces fit together seamlessly. It was a thoroughly rewarding building experience.\",\n",
    "   \"I was expecting a greater variety of minifigures and felt a bit let down. It's a good set, but it could have been better in this regard.\",\n",
    "   \"Took me longer to build than I anticipated, but now it's a stunning centerpiece in my room. It's a remarkable display piece.\",\n",
    "   \"It's an okay set, but in my opinion, there are better Lego sets available that offer more value and engagement.\",\n",
    "   \"Absolutely stunning once assembled. However, builders should be prepared for a lengthy and demanding construction journey.\"\n",
    "]\n"
   ]
  },
  {
   "cell_type": "code",
   "execution_count": 5,
   "metadata": {},
   "outputs": [],
   "source": [
    "client = OpenAI()\n",
    "def get_completion_from_messages(messages, model=\"gpt-3.5-turbo\", temperature=0):\n",
    "    response = client.chat.completions.create(\n",
    "        model=model,\n",
    "        messages=messages,\n",
    "        temperature=temperature,\n",
    "    )\n",
    "\n",
    "    return response.choices[0].message.content\n"
   ]
  },
  {
   "cell_type": "code",
   "execution_count": 6,
   "metadata": {},
   "outputs": [],
   "source": [
    "# aspect extraction: system message\n",
    "delimiter = \"####\"\n",
    "system_message_aspect = f\"\"\"\n",
    "You will be provided with customer reviews of a Lego set. \\\n",
    "The review will be delimited with {delimiter} characters. \\\n",
    "Your task is to segment each review into aspects. \\\n",
    "Output a python dictionary, which has the following format \\\n",
    "review = [review: \"...\", \"aspect1\" : \"...\", \"aspect2\" : \"...\" \\\n",
    "add as many aspects as you need for each review \\\n",
    "also add the review itself as a string \\\n",
    "Each aspect should contain a new dimension, functionality, or feature of the Lego set. \\\n",
    "Store the aspects as a string. \\\n",
    "For example, if the review is 'The set is expensive, but it looks great.', \\\n",
    "then the aspects are \"price\": \"The set is expensive\" and \"appearance\" : \"but it looks great\". \\\n",
    "If possible, use one of the following categories for the aspects: \\\n",
    "Build Quality\n",
    "Complexity\n",
    "Design\n",
    "Educational Value\n",
    "Entertainment Value\n",
    "Instruction Clarity\n",
    "Interactivity\n",
    "Nostalgia\n",
    "Price\n",
    "Size\n",
    "Age Suitability\n",
    "Minifigures\n",
    "Part Availability\n",
    "Durability\n",
    "Collectibility\n",
    "Packaging\n",
    "Assembly Time\n",
    "Replay Value\n",
    "\n",
    "If none of the above categories are suitable, you can use your own categories. \\\n",
    "If you are unable to segment the review into aspects, output an empty string. \\\n",
    "Only ouput the dictionary, with nothing else. \\\n",
    "\"\"\""
   ]
  },
  {
   "cell_type": "code",
   "execution_count": 7,
   "metadata": {},
   "outputs": [],
   "source": [
    "# sentiment analysis: system message\n",
    "system_message_sentiment = f\"\"\"\n",
    "You will be provided with a python dictionary of customer reviews of a Lego set. \\\n",
    "Each dictionary contains the whole review as well as their different aspects. \\\n",
    "The review will be delimited with {delimiter} characters. \\\n",
    "Your task is to analyze the sentiment of each aspect of the review individually. \\\n",
    "Output your results in json format with the following structure: \\\n",
    "{{\n",
    "    \"review\": \"Absolutely epic! Building this set was like stepping back into my childhood dreams. The nostalgia and intricate design deserve a five-star rating!\",\n",
    "    \"Nostalgia\": \"Positive\",\n",
    "    \"Design\": \"Positive\"\n",
    "}} \\\n",
    "add as many aspects as you need for each review \\\n",
    "also add the review itself as a string \\\n",
    "The sentiment has to be one of the following: \\\n",
    "Positive\n",
    "Neutral\n",
    "Negative\n",
    "If you are unable to analyze the sentiment of the aspect, output an empty string. \\\n",
    "\n",
    "\"\"\"\n"
   ]
  },
  {
   "cell_type": "code",
   "execution_count": 8,
   "metadata": {},
   "outputs": [
    {
     "name": "stdout",
     "output_type": "stream",
     "text": [
      "Processing review 1/20\n",
      "Processing review 2/20\n",
      "Processing review 3/20\n",
      "Processing review 4/20\n",
      "Processing review 5/20\n",
      "Processing review 6/20\n",
      "Processing review 7/20\n",
      "Processing review 8/20\n",
      "Processing review 9/20\n",
      "Processing review 10/20\n",
      "Processing review 11/20\n",
      "Processing review 12/20\n",
      "Processing review 13/20\n",
      "Processing review 14/20\n",
      "Processing review 15/20\n",
      "Processing review 16/20\n",
      "Processing review 17/20\n",
      "Processing review 18/20\n",
      "Processing review 19/20\n",
      "Processing review 20/20\n"
     ]
    }
   ],
   "source": [
    "# loop through all reviews\n",
    "\n",
    "# Initializing a list to store aspects of all reviews\n",
    "all_aspects = []\n",
    "\n",
    "for i, review in enumerate(reviews):\n",
    "    print(f\"Processing review {i+1}/{len(reviews)}\")\n",
    "\n",
    "    messages_aspect = [\n",
    "        {'role': 'system', 'content': system_message_aspect},\n",
    "        {'role': 'user', 'content': f\"{delimiter}{review}{delimiter}\"}\n",
    "    ]\n",
    "\n",
    "    aspects = get_completion_from_messages(messages_aspect)\n",
    "\n",
    "    #print(f\"Received aspects for review {i+1}: {aspects}\") # Uncomment to use for debugging\n",
    "\n",
    "    # Append the aspects of this review to the list\n",
    "    all_aspects.append(aspects)\n"
   ]
  },
  {
   "cell_type": "code",
   "execution_count": 9,
   "metadata": {},
   "outputs": [],
   "source": [
    "# Convert aspects to a string\n",
    "for aspect_dict in all_aspects:\n",
    "    aspect_string = json.dumps(aspect_dict)"
   ]
  },
  {
   "cell_type": "code",
   "execution_count": 10,
   "metadata": {},
   "outputs": [],
   "source": [
    "final_outputs = []\n",
    "\n",
    "for aspect_dict in all_aspects:\n",
    "    # Convert each aspect dictionary to a JSON string\n",
    "    aspect_string = json.dumps(aspect_dict)\n",
    "    \n",
    "    # Prepare the message for sentiment analysis\n",
    "    messages_sentiment = [\n",
    "        {'role': 'system', 'content': system_message_sentiment},\n",
    "        {'role': 'user', 'content': f\"{delimiter}{aspect_string}{delimiter}\"}\n",
    "    ]\n",
    "    \n",
    "    # Analyze sentiment for each set of aspects\n",
    "    sentiment_analysis = get_completion_from_messages(messages_sentiment)\n",
    "\n",
    "    # Store the final response\n",
    "    final_outputs.append(sentiment_analysis)\n"
   ]
  },
  {
   "cell_type": "code",
   "execution_count": 11,
   "metadata": {},
   "outputs": [],
   "source": [
    "def convert_reviews_to_sentiment(final_outputs):\n",
    "    sentiment_results = []\n",
    "\n",
    "    for review_str in final_outputs:\n",
    "        try:\n",
    "            review_dict = eval(review_str)  # Convert the string to a dictionary\n",
    "            sentiment_entry = {\"Review\": review_dict[\"review\"]}  # Initialize the dictionary for this review\n",
    "            for key, value in review_dict.items():\n",
    "                if key != \"review\":\n",
    "                    sentiment_entry[key] = value  # Add sentiment attributes (excluding \"review\")\n",
    "            sentiment_results.append(sentiment_entry)  # Append the sentiment entry to the list\n",
    "        except Exception as e:\n",
    "            print(f\"Error converting string to sentiment entry: {e}\")\n",
    "\n",
    "    return sentiment_results\n",
    "\n",
    "\n",
    "# Convert final_outputs to sentiment_results\n",
    "sentiment_results = convert_reviews_to_sentiment(final_outputs)\n"
   ]
  },
  {
   "cell_type": "code",
   "execution_count": 12,
   "metadata": {},
   "outputs": [
    {
     "name": "stdout",
     "output_type": "stream",
     "text": [
      "Sentiment analysis results have been saved to sentiment_analysis_results.json\n"
     ]
    }
   ],
   "source": [
    "\n",
    "# Convert sentiment_results to a JSON-formatted string\n",
    "sentiment_json = json.dumps(sentiment_results, indent=4)\n",
    "\n",
    "# Specify the filename you want to write to\n",
    "filename = 'sentiment_analysis_results.json'\n",
    "\n",
    "# Write the JSON string to a file\n",
    "with open(filename, 'w') as file:\n",
    "    file.write(sentiment_json)\n",
    "\n",
    "print(f\"Sentiment analysis results have been saved to {filename}\")\n"
   ]
  }
 ],
 "metadata": {
  "kernelspec": {
   "display_name": "myenv",
   "language": "python",
   "name": "myenv"
  },
  "language_info": {
   "codemirror_mode": {
    "name": "ipython",
    "version": 3
   },
   "file_extension": ".py",
   "mimetype": "text/x-python",
   "name": "python",
   "nbconvert_exporter": "python",
   "pygments_lexer": "ipython3",
   "version": "3.8.9"
  }
 },
 "nbformat": 4,
 "nbformat_minor": 2
}
