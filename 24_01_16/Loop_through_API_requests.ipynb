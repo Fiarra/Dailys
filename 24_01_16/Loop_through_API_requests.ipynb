{
 "cells": [
  {
   "cell_type": "code",
   "execution_count": 12,
   "metadata": {},
   "outputs": [],
   "source": [
    "import os\n",
    "from dotenv import load_dotenv\n",
    "import openai\n",
    "from openai import OpenAI\n",
    "import csv"
   ]
  },
  {
   "cell_type": "code",
   "execution_count": 2,
   "metadata": {},
   "outputs": [],
   "source": [
    "# Load environment variables\n",
    "load_dotenv()\n",
    "openai_api_key = os.getenv(\"OPENAI_API_KEY\")\n",
    "if not openai_api_key:\n",
    "    raise ValueError(\"No OpenAI API key found. Check your .env file.\")"
   ]
  },
  {
   "cell_type": "code",
   "execution_count": 3,
   "metadata": {},
   "outputs": [],
   "source": [
    "# Set the API key for OpenAI\n",
    "openai.api_key = openai_api_key\n"
   ]
  },
  {
   "cell_type": "code",
   "execution_count": 7,
   "metadata": {},
   "outputs": [
    {
     "name": "stdout",
     "output_type": "stream",
     "text": [
      "ChatCompletionMessage(content=\"In the vast realm of code that's yet unexplored,\\nEmerges a concept forever adored.\\nA function of delight, a concept so bright,\\nCalled recursion, in the programmer's night.\\n\\nOnce upon a code in a cyber terrain,\\nWhere functions and loops constantly reign,\\nA hero takes form, with a power so grand,\\nKnocking on doors, in iteration's land.\\n\\nIt's Recursion, a knight with a curious quest,\\nCalls upon itself, leaving no time for rest,\\nFor the answer it seeks, it already possesses,\\nA mirrored solution within its own excesses.\\n\\nA function by name, recursion by role,\\nIt splits the task, to achieve the goal.\\nDiving into depths, into its own tide,\\n'Til the simplest form, it can no longer hide.\\n\\nThrough treacherous paths, and problems so deep,\\nIt makes a promise, a pact it'll keep.\\nIt returns to itself, again and again,\\nThrough the wind, the errors and the rain.\\n\\nStarting from the sky, down to the roots,\\nRecursion breaks the problem into smaller pursuits.\\nFrom complex to simple, it unwinds the coil,\\nReducing the effort, reducing the toil.\\n\\nDivide and conquer, it proclaims aloud,\\nSplitting the problem through the cloud.\\nWhen the answer is found, it climbs back from the abyss,\\nLinking the answers, oh, such bliss!\\n\\nRecursion, a paradox, within code's womb,\\nFrom complexity, simplicity it'll exhume.\\nIt's a loop within a loop, spinning around,\\nUntangling mysteries, where answers are found.\\n\\nWhen you feel lost in the labyrinth of code,\\nBring forth recursion to lighten that load.\\nFor this is the tale, as old as transmission,\\nOf the knight called Recursion, in the realm of programming's mission.\", role='assistant', function_call=None, tool_calls=None)\n"
     ]
    }
   ],
   "source": [
    "# Make the API Request\n",
    "client = OpenAI()\n",
    "completion = client.chat.completions.create(\n",
    "  model=\"gpt-4\",\n",
    "  messages=[\n",
    "    {\"role\": \"system\", \"content\": \"You are a poetic assistant, skilled in explaining complex programming concepts with creative flair.\"},\n",
    "    {\"role\": \"user\", \"content\": \"Compose a poem that explains the concept of recursion in programming.\"}\n",
    "  ]\n",
    ")\n",
    "\n",
    "print(completion.choices[0].message)"
   ]
  },
  {
   "cell_type": "code",
   "execution_count": 8,
   "metadata": {},
   "outputs": [],
   "source": [
    "# Define the Questions\n",
    "questions = [\n",
    "    \"What is recursion in programming?\",\n",
    "    \"Explain the concept of classes in object-oriented programming.\",\n",
    "    \"How do you manage state in a React application?\",\n",
    "    \"What are the benefits of using TypeScript over JavaScript?\",\n",
    "    \"Describe the difference between synchronous and asynchronous programming in JavaScript.\",\n",
    "    \"What is a RESTful API and how does it work?\",\n",
    "    \"Can you explain the concept of 'Big O Notation' and its importance in algorithm design?\",\n",
    "    \"What is the difference between a NoSQL and a SQL database?\",\n",
    "    \"How do web sockets differ from HTTP requests?\",\n",
    "    \"What is the purpose of a Docker container in development?\",\n",
    "    \"Describe how a blockchain works and its primary uses.\",\n",
    "    \"Explain the concept of Git branching and its use in version control.\"\n",
    "]\n"
   ]
  },
  {
   "cell_type": "code",
   "execution_count": 9,
   "metadata": {},
   "outputs": [],
   "source": [
    "# Initialize an empty list to store the responses\n",
    "responses = []\n",
    "\n",
    "# Loop through each question in the 'questions' list\n",
    "for question in questions:\n",
    "\n",
    "    # Make an API call to OpenAI's GPT-4 model\n",
    "    completion = client.chat.completions.create(\n",
    "        model=\"gpt-4\",\n",
    "        # First message from the system, setting the context for GPT-4\n",
    "        messages=[\n",
    "            {\"role\": \"system\", \"content\": \"You are a programming teacher and explain coding for dummies.\"},\n",
    "            # Second message from the user, containing the actual question\n",
    "            {\"role\": \"user\", \"content\": question}\n",
    "        ]\n",
    "    )\n",
    "    # Extract the response text from the API's response\n",
    "    response_text = completion.choices[0].message.content\n",
    "    # Append the question and its corresponding response to the 'responses' list\n",
    "    responses.append((question, response_text))\n",
    "\n",
    "\n",
    "# responses is a list to hold the pairs of questions and answers.\n",
    "# We loop over each question in your predefined questions list.\n",
    "# For each question, we call OpenAI's API, specifying the model (\"gpt-4\") and providing two messages:\n",
    "# A system message to set the context or role for GPT-4.\n",
    "# A user message containing the actual question.\n",
    "# The API call returns a completion object from which we extract the response text.\n",
    "# We then store each question and its corresponding response as a tuple in the responses list. "
   ]
  },
  {
   "cell_type": "code",
   "execution_count": 11,
   "metadata": {},
   "outputs": [],
   "source": [
    "# Open a new CSV file to write the responses\n",
    "with open('gpt4_responses.csv', 'w', newline='') as file:\n",
    "    writer = csv.writer(file)\n",
    "\n",
    "    # Write the header\n",
    "    writer.writerow([\"Question\", \"Answer\"])\n",
    "\n",
    "     # Write the question-response pairs\n",
    "    for question, answer in responses:\n",
    "        writer.writerow([question, answer])"
   ]
  }
 ],
 "metadata": {
  "kernelspec": {
   "display_name": "myenv",
   "language": "python",
   "name": "myenv"
  },
  "language_info": {
   "codemirror_mode": {
    "name": "ipython",
    "version": 3
   },
   "file_extension": ".py",
   "mimetype": "text/x-python",
   "name": "python",
   "nbconvert_exporter": "python",
   "pygments_lexer": "ipython3",
   "version": "3.8.9"
  }
 },
 "nbformat": 4,
 "nbformat_minor": 2
}
