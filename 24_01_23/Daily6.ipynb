{
 "cells": [
  {
   "cell_type": "code",
   "execution_count": 1,
   "metadata": {},
   "outputs": [],
   "source": [
    "import os\n",
    "from dotenv import load_dotenv\n",
    "import openai\n",
    "import csv\n",
    "import pandas as pd\n",
    "from openai import OpenAI\n"
   ]
  },
  {
   "cell_type": "code",
   "execution_count": 3,
   "metadata": {},
   "outputs": [],
   "source": [
    "# Load environment variables\n",
    "load_dotenv()\n",
    "openai_api_key = os.getenv(\"OPENAI_API_KEY\")\n",
    "if not openai_api_key:\n",
    "    raise ValueError(\"No OpenAI API key found. Check your .env file.\")"
   ]
  },
  {
   "cell_type": "code",
   "execution_count": 4,
   "metadata": {},
   "outputs": [],
   "source": [
    "# Set the API key for OpenAI\n",
    "openai.api_key = openai_api_key"
   ]
  },
  {
   "cell_type": "code",
   "execution_count": 38,
   "metadata": {},
   "outputs": [
    {
     "name": "stdout",
     "output_type": "stream",
     "text": [
      "Once upon a time, there was a kingdom of fairy tale creatures that resided in Pumpkin Hollow.Cinderella lived in a\n",
      "Once upon a time, the word prevail was a word that people in our area we coined to say “majorettes”\n",
      "Once upon a time, \"in a land far far away…it all began at Dreamers Clothing!\"\n",
      "\n",
      "ABOUT DREAMERS C\n",
      "Once upon a time, now forgotten, people lived on an island\n",
      "\n",
      "where the birds didn’t sing but really spoke human language\n",
      "Once upon a time, there was a dog... who in his lifetime consumed the entire universe. Or at least, that's\n",
      "Once upon a time, Loveleen lived a life full of love and respect. Even though she didn't have anyone in her\n",
      "Once upon a time, cut off from the land of Turkey, lived a community of people named Kurdish, who thing a damn\n",
      "Once upon a time, people could adventure in Washington’s Cascade Mountains or elsewhere in the Western United States and easily fall for a\n",
      "Once upon a time, a stray kitten lived in the garage at a city clinic. This kitten needed peopl\n",
      "Once upon a time, an Indian prince imagined an island where he could build his home and shelter his new bride from the cold\n"
     ]
    }
   ],
   "source": [
    "from openai import OpenAI\n",
    "client = OpenAI()\n",
    " \n",
    "num_stories = 10\n",
    "prompts = [\"Once upon a time,\"] * num_stories\n",
    " \n",
    "# batched example, with 10 story completions per request\n",
    "#no \"chat\" here, since we are using davinci-002 \n",
    "response = client.completions.create(\n",
    "    model=\"davinci-002\",\n",
    "    prompt=prompts,\n",
    "    max_tokens=20,\n",
    ")\n",
    " \n",
    "# match completions to prompts by index\n",
    "stories = [\"\"] * len(prompts)\n",
    "for choice in response.choices:\n",
    "    stories[choice.index] = prompts[choice.index] + choice.text\n",
    " \n",
    "# print stories\n",
    "for story in stories:\n",
    "    print(story)"
   ]
  },
  {
   "cell_type": "code",
   "execution_count": 39,
   "metadata": {},
   "outputs": [
    {
     "name": "stdout",
     "output_type": "stream",
     "text": [
      "Prompts and responses have been saved to prompts_and_responses.csv.\n"
     ]
    }
   ],
   "source": [
    "\n",
    "import csv\n",
    "\n",
    "# Initialize the OpenAI client\n",
    "client = OpenAI()\n",
    "\n",
    "# Define an array of different prompts\n",
    "prompts = [\n",
    "    \"Describe a peaceful landscape.\",\n",
    "    \"What is the capital of France?\",\n",
    "    \"Write a poem about the sun.\",\n",
    "    \"Explain the theory of relativity.\",\n",
    "    # ... add more prompts as needed\n",
    "]\n",
    "\n",
    "# Batched example, with different story completions per request\n",
    "response = client.completions.create(\n",
    "    model=\"davinci-002\",\n",
    "    prompt=prompts,\n",
    "    max_tokens=20,\n",
    ")\n",
    "\n",
    "# Prepare data for CSV\n",
    "csv_data = []\n",
    "for index, choice in enumerate(response.choices):\n",
    "    prompt = prompts[index]\n",
    "    completion = choice.text.strip()  # Stripping leading/trailing whitespace\n",
    "    csv_data.append([prompt, completion])\n",
    "\n",
    "# Write prompts and completions to a CSV file\n",
    "csv_filename = 'prompts_and_responses.csv'\n",
    "with open(csv_filename, 'w', newline='', encoding='utf-8') as file:\n",
    "    writer = csv.writer(file)\n",
    "    writer.writerow(['Prompt', 'Response'])  # Writing header\n",
    "    writer.writerows(csv_data)\n",
    "\n",
    "print(f\"Prompts and responses have been saved to {csv_filename}.\")\n"
   ]
  },
  {
   "cell_type": "code",
   "execution_count": null,
   "metadata": {},
   "outputs": [],
   "source": []
  }
 ],
 "metadata": {
  "kernelspec": {
   "display_name": "myenv",
   "language": "python",
   "name": "myenv"
  },
  "language_info": {
   "codemirror_mode": {
    "name": "ipython",
    "version": 3
   },
   "file_extension": ".py",
   "mimetype": "text/x-python",
   "name": "python",
   "nbconvert_exporter": "python",
   "pygments_lexer": "ipython3",
   "version": "3.8.9"
  }
 },
 "nbformat": 4,
 "nbformat_minor": 2
}
