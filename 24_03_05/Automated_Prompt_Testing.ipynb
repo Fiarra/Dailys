{
 "cells": [
  {
   "cell_type": "code",
   "execution_count": 13,
   "metadata": {},
   "outputs": [],
   "source": [
    "import os\n",
    "from dotenv import load_dotenv\n",
    "import openai\n",
    "import csv\n",
    "import pandas as pd\n",
    "from openai import OpenAI\n",
    "import matplotlib.pyplot as plt\n",
    "from sklearn.metrics import classification_report"
   ]
  },
  {
   "cell_type": "code",
   "execution_count": 2,
   "metadata": {},
   "outputs": [],
   "source": [
    "df = pd.read_csv(\"IMDB Dataset.csv\")"
   ]
  },
  {
   "cell_type": "code",
   "execution_count": 5,
   "metadata": {},
   "outputs": [],
   "source": [
    "df_small = df.iloc[200:220]"
   ]
  },
  {
   "cell_type": "markdown",
   "metadata": {},
   "source": [
    "**Sentiment Anaylsis with 1 Prompt**"
   ]
  },
  {
   "cell_type": "code",
   "execution_count": 10,
   "metadata": {},
   "outputs": [],
   "source": [
    "def get_completion_from_messages(review_text, model=\"gpt-3.5-turbo\", temperature=0):\n",
    "    messages = [{\n",
    "        \"role\": \"user\",  # Or 'system' as appropriate for your use case\n",
    "        \"content\": review_text\n",
    "    }]\n",
    "    \n",
    "    response = client.chat.completions.create(\n",
    "        model=model,\n",
    "        messages=messages,\n",
    "        temperature=temperature,\n",
    "    )\n",
    "    \n",
    "    return response.choices[0].message.content"
   ]
  },
  {
   "cell_type": "code",
   "execution_count": 17,
   "metadata": {},
   "outputs": [],
   "source": [
    "for index, row in df_small.iterrows():\n",
    "    review = row['review']\n",
    "    prompt = f\"\"\"\n",
    "    Your task is to determine the sentiment of a review of a movie.\n",
    "\n",
    "    Determine the Sentiment of the Review below, delimited by triple backticks.\n",
    "\n",
    "    Give your answer a single word, either \"positive\" or \"negative\". Be sure to not use capital letters.\n",
    "\n",
    "    Review: ```{review}```\n",
    "    \"\"\"\n",
    "\n",
    "    # Assuming get_completion_from_messages is your function to get the sentiment\n",
    "    response = get_completion_from_messages(prompt)\n",
    "    # Update the DataFrame with the predicted sentiment\n",
    "    df_small.at[index, 'predicted_sentiment'] = response.strip()"
   ]
  },
  {
   "cell_type": "code",
   "execution_count": 20,
   "metadata": {},
   "outputs": [
    {
     "name": "stdout",
     "output_type": "stream",
     "text": [
      "              precision    recall  f1-score   support\n",
      "\n",
      "    negative       0.69      0.90      0.78        10\n",
      "    positive       0.86      0.60      0.71        10\n",
      "\n",
      "    accuracy                           0.75        20\n",
      "   macro avg       0.77      0.75      0.74        20\n",
      "weighted avg       0.77      0.75      0.74        20\n",
      "\n"
     ]
    }
   ],
   "source": [
    "from sklearn.metrics import classification_report\n",
    "\n",
    "# Assuming your DataFrame is named df_small\n",
    "true_labels = df_small['sentiment']\n",
    "predicted_labels = df_small['predicted_sentiment']\n",
    "\n",
    "# Generate the classification report\n",
    "report = classification_report(true_labels, predicted_labels, target_names=['negative', 'positive'])\n",
    "\n",
    "print(report)"
   ]
  },
  {
   "cell_type": "code",
   "execution_count": 21,
   "metadata": {},
   "outputs": [],
   "source": [
    "df_small.to_csv('Test.csv', index=False)"
   ]
  },
  {
   "cell_type": "markdown",
   "metadata": {},
   "source": [
    "**Sentiment Analysis with 2 prompts**"
   ]
  },
  {
   "cell_type": "code",
   "execution_count": 27,
   "metadata": {},
   "outputs": [],
   "source": [
    "def get_completion_from_messages(prompt, review_text, model=\"gpt-3.5-turbo\", temperature=0):\n",
    "    # Adjust your function as needed; for simplicity, we assume the prompt includes the review_text\n",
    "    formatted_prompt = prompt.format(review_text=review_text)\n",
    "    \n",
    "    response = client.chat.completions.create(\n",
    "        model=model,\n",
    "        messages=[{\n",
    "            \"role\": \"user\",\n",
    "            \"content\": formatted_prompt\n",
    "        }],\n",
    "        temperature=temperature,\n",
    "    )\n",
    "    \n",
    "    return response.choices[0].message.content"
   ]
  },
  {
   "cell_type": "code",
   "execution_count": 28,
   "metadata": {},
   "outputs": [],
   "source": [
    "prompt_1 = \"\"\"\n",
    "Your task is to determine the sentiment of a movie review. Give your answer as either \"positive\" or \"negative\". Do not use capital letters.\n",
    "\n",
    "Review: ```{review_text}```\n",
    "\"\"\"\n",
    "\n",
    "prompt_2 = \"\"\"\n",
    "Given the following movie review, classify its sentiment as \"positive\" or \"negative\". Do not use capital letters.\n",
    "\n",
    "Review: ```{review_text}```\n",
    "\"\"\""
   ]
  },
  {
   "cell_type": "code",
   "execution_count": 29,
   "metadata": {},
   "outputs": [
    {
     "name": "stderr",
     "output_type": "stream",
     "text": [
      "/var/folders/xg/jz066c5d5jn87vqnb688_0d00000gn/T/ipykernel_44568/2251212028.py:5: SettingWithCopyWarning: \n",
      "A value is trying to be set on a copy of a slice from a DataFrame.\n",
      "Try using .loc[row_indexer,col_indexer] = value instead\n",
      "\n",
      "See the caveats in the documentation: https://pandas.pydata.org/pandas-docs/stable/user_guide/indexing.html#returning-a-view-versus-a-copy\n",
      "  df_small.at[index, column_name] = response.strip()\n",
      "/var/folders/xg/jz066c5d5jn87vqnb688_0d00000gn/T/ipykernel_44568/2251212028.py:5: SettingWithCopyWarning: \n",
      "A value is trying to be set on a copy of a slice from a DataFrame.\n",
      "Try using .loc[row_indexer,col_indexer] = value instead\n",
      "\n",
      "See the caveats in the documentation: https://pandas.pydata.org/pandas-docs/stable/user_guide/indexing.html#returning-a-view-versus-a-copy\n",
      "  df_small.at[index, column_name] = response.strip()\n"
     ]
    }
   ],
   "source": [
    "for prompt, column_name in [(prompt_1, 'predicted_sentiment_1'), (prompt_2, 'predicted_sentiment_2')]:\n",
    "    for index, row in df_small.iterrows():\n",
    "        review = row['review']\n",
    "        response = get_completion_from_messages(prompt, review)\n",
    "        df_small.at[index, column_name] = response.strip()"
   ]
  },
  {
   "cell_type": "code",
   "execution_count": 33,
   "metadata": {},
   "outputs": [
    {
     "name": "stderr",
     "output_type": "stream",
     "text": [
      "/var/folders/xg/jz066c5d5jn87vqnb688_0d00000gn/T/ipykernel_44568/595897597.py:2: SettingWithCopyWarning: \n",
      "A value is trying to be set on a copy of a slice from a DataFrame.\n",
      "Try using .loc[row_indexer,col_indexer] = value instead\n",
      "\n",
      "See the caveats in the documentation: https://pandas.pydata.org/pandas-docs/stable/user_guide/indexing.html#returning-a-view-versus-a-copy\n",
      "  df_small['sentiment'] = df_small['sentiment'].str.lower()\n",
      "/var/folders/xg/jz066c5d5jn87vqnb688_0d00000gn/T/ipykernel_44568/595897597.py:5: SettingWithCopyWarning: \n",
      "A value is trying to be set on a copy of a slice from a DataFrame.\n",
      "Try using .loc[row_indexer,col_indexer] = value instead\n",
      "\n",
      "See the caveats in the documentation: https://pandas.pydata.org/pandas-docs/stable/user_guide/indexing.html#returning-a-view-versus-a-copy\n",
      "  df_small['predicted_sentiment_1'] = df_small['predicted_sentiment_1'].str.lower()\n",
      "/var/folders/xg/jz066c5d5jn87vqnb688_0d00000gn/T/ipykernel_44568/595897597.py:6: SettingWithCopyWarning: \n",
      "A value is trying to be set on a copy of a slice from a DataFrame.\n",
      "Try using .loc[row_indexer,col_indexer] = value instead\n",
      "\n",
      "See the caveats in the documentation: https://pandas.pydata.org/pandas-docs/stable/user_guide/indexing.html#returning-a-view-versus-a-copy\n",
      "  df_small['predicted_sentiment_2'] = df_small['predicted_sentiment_2'].str.lower()\n"
     ]
    }
   ],
   "source": [
    "# Convert the 'sentiment' column to lowercase\n",
    "df_small['sentiment'] = df_small['sentiment'].str.lower()\n",
    "\n",
    "# Convert the predicted sentiment columns to lowercase\n",
    "df_small['predicted_sentiment_1'] = df_small['predicted_sentiment_1'].str.lower()\n",
    "df_small['predicted_sentiment_2'] = df_small['predicted_sentiment_2'].str.lower()"
   ]
  },
  {
   "cell_type": "code",
   "execution_count": 34,
   "metadata": {},
   "outputs": [
    {
     "name": "stdout",
     "output_type": "stream",
     "text": [
      "Classification report for predicted_sentiment_1:\n",
      "              precision    recall  f1-score   support\n",
      "\n",
      "    negative       0.90      0.90      0.90        10\n",
      "    positive       0.90      0.90      0.90        10\n",
      "\n",
      "    accuracy                           0.90        20\n",
      "   macro avg       0.90      0.90      0.90        20\n",
      "weighted avg       0.90      0.90      0.90        20\n",
      "\n",
      "\n",
      "\n",
      "Classification report for predicted_sentiment_2:\n",
      "              precision    recall  f1-score   support\n",
      "\n",
      "    negative       0.69      0.90      0.78        10\n",
      "    positive       0.86      0.60      0.71        10\n",
      "\n",
      "    accuracy                           0.75        20\n",
      "   macro avg       0.77      0.75      0.74        20\n",
      "weighted avg       0.77      0.75      0.74        20\n",
      "\n",
      "\n",
      "\n"
     ]
    }
   ],
   "source": [
    "for column_name in ['predicted_sentiment_1', 'predicted_sentiment_2']:\n",
    "    print(f\"Classification report for {column_name}:\")\n",
    "    predicted_labels = df_small[column_name]\n",
    "    report = classification_report(true_labels, predicted_labels, target_names=['negative', 'positive'])\n",
    "    print(report)\n",
    "    print(\"\\n\")"
   ]
  },
  {
   "cell_type": "markdown",
   "metadata": {},
   "source": [
    "**Automatically generate Prompts**"
   ]
  },
  {
   "cell_type": "code",
   "execution_count": 52,
   "metadata": {},
   "outputs": [],
   "source": [
    "original_prompt = \"\"\"\n",
    "Your task is to determine the sentiment of a movie review. Give your answer as either \"positive\" or \"negative\". Do not use capital letters.\n",
    "\n",
    "Review: ```{review_text}```\n",
    "\"\"\""
   ]
  },
  {
   "cell_type": "code",
   "execution_count": 102,
   "metadata": {},
   "outputs": [
    {
     "name": "stdout",
     "output_type": "stream",
     "text": [
      "Prompt 1:\n",
      "\n",
      "Your task is to determine the sentiment of a movie review. Give your answer as either \"positive\" or \"negative\". Do not use capital letters.\n",
      "\n",
      "Review: ```{review_text}```\n",
      "\n",
      "------------------------------------------------------------\n",
      "\n",
      "Prompt 2:\n",
      "Please analyze the sentiment of the movie review and provide your response as either \"positive\" or \"negative\". Review: ```{review_text}```\n",
      "------------------------------------------------------------\n",
      "\n",
      "Prompt 3:\n",
      "Determine if the sentiment of the movie review is \"positive\" or \"negative\". \n",
      "Review: ```{review_text}```\n",
      "------------------------------------------------------------\n",
      "\n"
     ]
    }
   ],
   "source": [
    "def generate_prompt_variations(prompt):\n",
    "   \n",
    "    messages = [\n",
    "        {\"role\": \"user\", \"content\": \"\"\"Generate a good variation of the following instruction for a sentiment analysis task: Your task is to determine the sentiment of a movie review. Give your answer as either \"positive\" or \"negative\".\n",
    "        The Variation has to inlcude the following:\n",
    "         - Output only \"positive\" or \"negative\"\n",
    "         - Feel free to change the wording and the lenght of the prompt \n",
    "        Every variation has to end with the following: Review: ```{review_text}```\n",
    "        Make sure to have that exact same ending in every variation.\n",
    "         Do not ouput anything else but the prompt variation.\n",
    "         \"\"\"}\n",
    "    ]\n",
    "\n",
    "    response = client.chat.completions.create(\n",
    "        model=\"gpt-3.5-turbo\",\n",
    "        messages=messages,\n",
    "        temperature=0.8,\n",
    "        max_tokens=500,  \n",
    "        n=2,\n",
    "    )\n",
    "\n",
    "      # Assuming you want both variations, you'll need to extract both from the response\n",
    "    variations = [response.choices[i].message.content.strip() for i in range(len(response.choices))]\n",
    "\n",
    "    return variations\n",
    "\n",
    "# Generate variations\n",
    "prompt_variations = generate_prompt_variations(original_prompt)\n",
    "\n",
    "# Include the original prompt and the generated variations in a list\n",
    "prompts_with_variations = [original_prompt] + prompt_variations\n",
    "\n",
    "# Print all prompts to verify\n",
    "for idx, prompt in enumerate(prompts_with_variations, start=1):\n",
    "    print(f\"Prompt {idx}:\\n{prompt}\\n{'-'*60}\\n\")"
   ]
  },
  {
   "cell_type": "code",
   "execution_count": 107,
   "metadata": {},
   "outputs": [
    {
     "name": "stdout",
     "output_type": "stream",
     "text": [
      "['\\nYour task is to determine the sentiment of a movie review. Give your answer as either \"positive\" or \"negative\". Do not use capital letters.\\n\\nReview: ```{review_text}```\\n', 'Please analyze the sentiment of the movie review and provide your response as either \"positive\" or \"negative\". Review: ```{review_text}```', 'Determine if the sentiment of the movie review is \"positive\" or \"negative\". \\nReview: ```{review_text}```']\n"
     ]
    }
   ],
   "source": [
    "print(prompts_with_variations)"
   ]
  },
  {
   "cell_type": "markdown",
   "metadata": {},
   "source": [
    "**Put it all together**"
   ]
  },
  {
   "cell_type": "code",
   "execution_count": null,
   "metadata": {},
   "outputs": [],
   "source": []
  }
 ],
 "metadata": {
  "kernelspec": {
   "display_name": "myenv",
   "language": "python",
   "name": "myenv"
  },
  "language_info": {
   "codemirror_mode": {
    "name": "ipython",
    "version": 3
   },
   "file_extension": ".py",
   "mimetype": "text/x-python",
   "name": "python",
   "nbconvert_exporter": "python",
   "pygments_lexer": "ipython3",
   "version": "3.8.9"
  }
 },
 "nbformat": 4,
 "nbformat_minor": 2
}
