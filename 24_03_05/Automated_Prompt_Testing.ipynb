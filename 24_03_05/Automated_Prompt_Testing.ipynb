{
 "cells": [
  {
   "cell_type": "code",
   "execution_count": 1,
   "metadata": {},
   "outputs": [],
   "source": [
    "import os\n",
    "from dotenv import load_dotenv\n",
    "import openai\n",
    "import csv\n",
    "import pandas as pd\n",
    "from openai import OpenAI\n",
    "import matplotlib.pyplot as plt"
   ]
  },
  {
   "cell_type": "code",
   "execution_count": 2,
   "metadata": {},
   "outputs": [],
   "source": [
    "df = pd.read_csv(\"IMDB Dataset.csv\")"
   ]
  },
  {
   "cell_type": "code",
   "execution_count": 5,
   "metadata": {},
   "outputs": [],
   "source": [
    "df_small = df.iloc[200:220]"
   ]
  },
  {
   "cell_type": "code",
   "execution_count": 6,
   "metadata": {},
   "outputs": [
    {
     "name": "stdout",
     "output_type": "stream",
     "text": [
      "                                                review sentiment\n",
      "200  Interesting and short television movie describ...  negative\n",
      "201  Any film about WWII made during WWII by a Brit...  positive\n",
      "202  A brilliant horror film. Utterly gruesome and ...  positive\n",
      "203  I absolutely love this film. Everything about ...  positive\n",
      "204  No one can say I wasn't warned as I have read ...  negative\n",
      "205  A new way to enjoy Goldsworthy's work, Rivers ...  positive\n",
      "206  If you liked William Hickey in \"Prizzi's Honor...  negative\n",
      "207  I have seen most, if not all of the Laurel & H...  negative\n",
      "208  I just started watching The Show around July. ...  positive\n",
      "209  This film is well cast, often silly and always...  positive\n",
      "210  I have just given a 10 for Thieves Highway, I ...  negative\n",
      "211  This movie was terrible. The plot was terrible...  negative\n",
      "212  I strongly dislike this show. I mean, like, ba...  negative\n",
      "213  Normally I don't like series at all. They're a...  positive\n",
      "214  holy Sh*t this was god awful. i sat in the the...  negative\n",
      "215  This movie is without a doubt a perfect 10/10....  positive\n",
      "216  I saw this at the London Film Festival last ni...  positive\n",
      "217  I can't believe this movie managed to get such...  negative\n",
      "218  This movie really woke me up, like it wakes up...  positive\n",
      "219  Ed Wood rides again. The fact that this movie ...  negative\n"
     ]
    }
   ],
   "source": [
    "print(df_small)"
   ]
  },
  {
   "cell_type": "code",
   "execution_count": 7,
   "metadata": {},
   "outputs": [],
   "source": [
    "client = OpenAI()\n",
    "def get_completion_from_messages(messages, model=\"gpt-3.5-turbo\", temperature=0):\n",
    "    response = client.chat.completions.create(\n",
    "        model=model,\n",
    "        messages=messages,\n",
    "        temperature=temperature,\n",
    "    )\n",
    "\n",
    "    return response.choices[0].message.content"
   ]
  },
  {
   "cell_type": "code",
   "execution_count": null,
   "metadata": {},
   "outputs": [],
   "source": [
    "for i in range(len(reviews)):\n",
    "    prompt = f\"\"\"\n",
    "    Your task is to determine the sentiment of a review of a movie.\n",
    "\n",
    "    Determine the Sentiment of the Revie below, delimited by triple \\\n",
    "    backticks.\n",
    "\n",
    "    Give your answer a single word, either \"positive\" or \"negative\".\n",
    "\n",
    "    Review: ```{reviews[i]}```\n",
    "    \"\"\"\n",
    "\n",
    "    response = get_completion(prompt)\n",
    "    print(i, response, \"\\n\")\n"
   ]
  }
 ],
 "metadata": {
  "kernelspec": {
   "display_name": "myenv",
   "language": "python",
   "name": "myenv"
  },
  "language_info": {
   "codemirror_mode": {
    "name": "ipython",
    "version": 3
   },
   "file_extension": ".py",
   "mimetype": "text/x-python",
   "name": "python",
   "nbconvert_exporter": "python",
   "pygments_lexer": "ipython3",
   "version": "3.8.9"
  }
 },
 "nbformat": 4,
 "nbformat_minor": 2
}
