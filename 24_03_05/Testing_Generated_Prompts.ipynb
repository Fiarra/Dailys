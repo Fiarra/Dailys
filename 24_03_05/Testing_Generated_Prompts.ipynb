{
 "cells": [
  {
   "cell_type": "markdown",
   "metadata": {},
   "source": [
    "**Prepping**"
   ]
  },
  {
   "cell_type": "code",
   "execution_count": 26,
   "metadata": {},
   "outputs": [],
   "source": [
    "import os\n",
    "from dotenv import load_dotenv\n",
    "import openai\n",
    "import csv\n",
    "import pandas as pd\n",
    "from openai import OpenAI\n",
    "import matplotlib.pyplot as plt\n",
    "from sklearn.metrics import classification_report\n",
    "import numpy as np"
   ]
  },
  {
   "cell_type": "code",
   "execution_count": 27,
   "metadata": {},
   "outputs": [],
   "source": [
    "df = pd.read_csv(\"IMDB Dataset.csv\")"
   ]
  },
  {
   "cell_type": "code",
   "execution_count": 28,
   "metadata": {},
   "outputs": [],
   "source": [
    "df_small = df.iloc[200:300]"
   ]
  },
  {
   "cell_type": "code",
   "execution_count": 29,
   "metadata": {},
   "outputs": [],
   "source": [
    "load_dotenv()\n",
    "openai_api_key = os.getenv(\"OPENAI_API_KEY\")\n",
    "if not openai_api_key:\n",
    "    raise ValueError(\"No OpenAI API key found. Check your .env file.\")"
   ]
  },
  {
   "cell_type": "code",
   "execution_count": 30,
   "metadata": {},
   "outputs": [],
   "source": [
    "openai.api_key = openai_api_key"
   ]
  },
  {
   "cell_type": "code",
   "execution_count": 31,
   "metadata": {},
   "outputs": [],
   "source": [
    "client = OpenAI()"
   ]
  },
  {
   "cell_type": "markdown",
   "metadata": {},
   "source": [
    "**Automatically Generate Prompt Variations**"
   ]
  },
  {
   "cell_type": "code",
   "execution_count": 35,
   "metadata": {},
   "outputs": [],
   "source": [
    "def generate_prompt_variations():\n",
    "   \n",
    "    messages = [\n",
    "        {\"role\": \"user\", \"content\": \"\"\"Generate a good variation of the following instruction for a sentiment analysis task: Your task is to determine the sentiment of a movie review. Give your answer as either \"positive\" or \"negative\".\n",
    "        The Variation has to inlcude the following:\n",
    "         - Output only \"positive\" or \"negative\" in a single word \n",
    "         - Feel free to change the wording and the lenght of the prompt \n",
    "        Every variation has to end with the following: Review: ```{review_text}```\n",
    "        Make sure to have that exact same ending in every variation.\n",
    "         Do not ouput anything else but the prompt variation.\n",
    "         \"\"\"}\n",
    "    ]\n",
    "\n",
    "    response = client.chat.completions.create(\n",
    "        model=\"gpt-3.5-turbo\",\n",
    "        messages=messages,\n",
    "        temperature=0.8, # Change this for more crazy variations\n",
    "        max_tokens=500,  \n",
    "        n=4, # Change this to generate more variations\n",
    "    )\n",
    "\n",
    "    variations = [response.choices[i].message.content.strip() for i in range(len(response.choices))]\n",
    "\n",
    "    return variations\n",
    "\n",
    "prompt_variations = generate_prompt_variations()\n",
    "# Print all prompts for debugging purposes\n",
    "# for idx, prompt in enumerate(prompt_variations, start=1):\n",
    "   # print(f\"Prompt {idx}:\\n{prompt}\\n{'-'*60}\\n\")"
   ]
  },
  {
   "cell_type": "markdown",
   "metadata": {},
   "source": [
    "**Test Generated Prompts**"
   ]
  },
  {
   "cell_type": "code",
   "execution_count": 33,
   "metadata": {},
   "outputs": [],
   "source": [
    "# Define the analysis function\n",
    "def get_completion_from_messages(prompt_template, review_text, model=\"gpt-3.5-turbo\", temperature=0):\n",
    "    formatted_prompt = prompt_template.format(review_text=review_text)\n",
    "    \n",
    "    response = client.chat.completions.create(\n",
    "        model=model,\n",
    "        messages=[{\n",
    "            \"role\": \"user\",\n",
    "            \"content\": formatted_prompt\n",
    "        }],\n",
    "        temperature=temperature,\n",
    "    )\n",
    "    \n",
    "    return response.choices[0].message.content.strip().lower()"
   ]
  },
  {
   "cell_type": "code",
   "execution_count": null,
   "metadata": {},
   "outputs": [],
   "source": [
    "# Loop through all variations and store the results in the dataframe\n",
    "for idx, prompt_template in enumerate(prompt_variations, start=1):\n",
    "    column_name = f'predicted_sentiment_{idx}'\n",
    "    \n",
    "    for index, row in df_small.iterrows():\n",
    "        review = row['review']\n",
    "        response = get_completion_from_messages(prompt_template, review)\n",
    "        df_small.at[index, column_name] = response.strip().lower()"
   ]
  },
  {
   "cell_type": "code",
   "execution_count": null,
   "metadata": {},
   "outputs": [],
   "source": [
    "# Get performance metrics\n",
    "f1_scores = {}  # Define the f1_scores dictionary\n",
    "for idx in range(1, len(prompt_variations) + 1):\n",
    "    column_name = f'predicted_sentiment_{idx}'\n",
    "    predicted_labels = df_small[column_name]\n",
    "    \n",
    "    true_labels = df_small['sentiment']\n",
    "    report_dict = classification_report(true_labels, predicted_labels, target_names=['negative', 'positive'], output_dict=True)\n",
    "    \n",
    "    \n",
    "    f1_score_negative = report_dict['negative']['f1-score']\n",
    "    f1_score_positive = report_dict['positive']['f1-score']\n",
    "    f1_score_average = report_dict['macro avg']['f1-score']  # or 'weighted avg' for weighted average\n",
    "    \n",
    "    \n",
    "    f1_scores[column_name] = {\n",
    "        'negative': f1_score_negative,\n",
    "        'positive': f1_score_positive,\n",
    "        'average': f1_score_average\n",
    "    }"
   ]
  },
  {
   "cell_type": "code",
   "execution_count": null,
   "metadata": {},
   "outputs": [
    {
     "data": {
      "image/png": "[encoded data removed]",
      "text/plain": [
       "<Figure size 640x480 with 1 Axes>"
      ]
     },
     "metadata": {},
     "output_type": "display_data"
    }
   ],
   "source": [
    "# Plot this shiiiiiit\n",
    "categories = ['negative', 'positive', 'average']\n",
    "n_categories = len(categories)\n",
    "n_predictions = len(f1_scores)\n",
    "\n",
    "fig, ax = plt.subplots()\n",
    "\n",
    "\n",
    "index = np.arange(n_predictions)\n",
    "bar_width = 0.2\n",
    "\n",
    "\n",
    "for i, category in enumerate(categories):\n",
    "    scores = [f1_scores[prediction][category] for prediction in f1_scores]\n",
    "    ax.bar(index + i * bar_width, scores, bar_width, label=category)\n",
    "\n",
    "\n",
    "ax.set_xlabel('Predicted Sentiment')\n",
    "ax.set_ylabel('F1 Score')\n",
    "ax.set_title('F1 Scores by Predicted Sentiment and Category')\n",
    "ax.set_xticks(index + bar_width / n_categories)\n",
    "ax.set_xticklabels(list(f1_scores.keys()))\n",
    "ax.legend()\n",
    "\n",
    "\n",
    "plt.tight_layout()\n",
    "\n",
    "\n",
    "plt.show()"
   ]
  },
  {
   "cell_type": "code",
   "execution_count": null,
   "metadata": {},
   "outputs": [],
   "source": []
  }
 ],
 "metadata": {
  "kernelspec": {
   "display_name": "myenv",
   "language": "python",
   "name": "myenv"
  },
  "language_info": {
   "codemirror_mode": {
    "name": "ipython",
    "version": 3
   },
   "file_extension": ".py",
   "mimetype": "text/x-python",
   "name": "python",
   "nbconvert_exporter": "python",
   "pygments_lexer": "ipython3",
   "version": "3.8.9"
  }
 },
 "nbformat": 4,
 "nbformat_minor": 2
}
