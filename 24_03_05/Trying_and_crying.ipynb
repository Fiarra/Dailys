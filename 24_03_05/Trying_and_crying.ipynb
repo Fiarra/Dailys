{
 "cells": [
  {
   "cell_type": "code",
   "execution_count": 133,
   "metadata": {},
   "outputs": [],
   "source": [
    "import os\n",
    "from dotenv import load_dotenv\n",
    "import openai\n",
    "import csv\n",
    "import pandas as pd\n",
    "from openai import OpenAI\n",
    "import matplotlib.pyplot as plt\n",
    "from sklearn.metrics import classification_report\n",
    "import numpy as np"
   ]
  },
  {
   "cell_type": "code",
   "execution_count": 2,
   "metadata": {},
   "outputs": [],
   "source": [
    "df = pd.read_csv(\"IMDB Dataset.csv\")"
   ]
  },
  {
   "cell_type": "code",
   "execution_count": 5,
   "metadata": {},
   "outputs": [],
   "source": [
    "df_small = df.iloc[200:220]"
   ]
  },
  {
   "cell_type": "markdown",
   "metadata": {},
   "source": [
    "**Sentiment Anaylsis with 1 Prompt**"
   ]
  },
  {
   "cell_type": "code",
   "execution_count": 10,
   "metadata": {},
   "outputs": [],
   "source": [
    "def get_completion_from_messages(review_text, model=\"gpt-3.5-turbo\", temperature=0):\n",
    "    messages = [{\n",
    "        \"role\": \"user\",  # Or 'system' as appropriate for your use case\n",
    "        \"content\": review_text\n",
    "    }]\n",
    "    \n",
    "    response = client.chat.completions.create(\n",
    "        model=model,\n",
    "        messages=messages,\n",
    "        temperature=temperature,\n",
    "    )\n",
    "    \n",
    "    return response.choices[0].message.content"
   ]
  },
  {
   "cell_type": "code",
   "execution_count": 17,
   "metadata": {},
   "outputs": [],
   "source": [
    "for index, row in df_small.iterrows():\n",
    "    review = row['review']\n",
    "    prompt = f\"\"\"\n",
    "    Your task is to determine the sentiment of a review of a movie.\n",
    "\n",
    "    Determine the Sentiment of the Review below, delimited by triple backticks.\n",
    "\n",
    "    Give your answer a single word, either \"positive\" or \"negative\". Be sure to not use capital letters.\n",
    "\n",
    "    Review: ```{review}```\n",
    "    \"\"\"\n",
    "\n",
    "    # Assuming get_completion_from_messages is your function to get the sentiment\n",
    "    response = get_completion_from_messages(prompt)\n",
    "    # Update the DataFrame with the predicted sentiment\n",
    "    df_small.at[index, 'predicted_sentiment'] = response.strip()"
   ]
  },
  {
   "cell_type": "code",
   "execution_count": 20,
   "metadata": {},
   "outputs": [
    {
     "name": "stdout",
     "output_type": "stream",
     "text": [
      "              precision    recall  f1-score   support\n",
      "\n",
      "    negative       0.69      0.90      0.78        10\n",
      "    positive       0.86      0.60      0.71        10\n",
      "\n",
      "    accuracy                           0.75        20\n",
      "   macro avg       0.77      0.75      0.74        20\n",
      "weighted avg       0.77      0.75      0.74        20\n",
      "\n"
     ]
    }
   ],
   "source": [
    "from sklearn.metrics import classification_report\n",
    "\n",
    "# Assuming your DataFrame is named df_small\n",
    "true_labels = df_small['sentiment']\n",
    "predicted_labels = df_small['predicted_sentiment']\n",
    "\n",
    "# Generate the classification report\n",
    "report = classification_report(true_labels, predicted_labels, target_names=['negative', 'positive'])\n",
    "\n",
    "print(report)"
   ]
  },
  {
   "cell_type": "code",
   "execution_count": 21,
   "metadata": {},
   "outputs": [],
   "source": [
    "df_small.to_csv('Test.csv', index=False)"
   ]
  },
  {
   "cell_type": "markdown",
   "metadata": {},
   "source": [
    "**Sentiment Analysis with 2 prompts**"
   ]
  },
  {
   "cell_type": "code",
   "execution_count": 27,
   "metadata": {},
   "outputs": [],
   "source": [
    "def get_completion_from_messages(prompt, review_text, model=\"gpt-3.5-turbo\", temperature=0):\n",
    "    # Adjust your function as needed; for simplicity, we assume the prompt includes the review_text\n",
    "    formatted_prompt = prompt.format(review_text=review_text)\n",
    "    \n",
    "    response = client.chat.completions.create(\n",
    "        model=model,\n",
    "        messages=[{\n",
    "            \"role\": \"user\",\n",
    "            \"content\": formatted_prompt\n",
    "        }],\n",
    "        temperature=temperature,\n",
    "    )\n",
    "    \n",
    "    return response.choices[0].message.content"
   ]
  },
  {
   "cell_type": "code",
   "execution_count": 28,
   "metadata": {},
   "outputs": [],
   "source": [
    "prompt_1 = \"\"\"\n",
    "Your task is to determine the sentiment of a movie review. Give your answer as either \"positive\" or \"negative\". Do not use capital letters.\n",
    "\n",
    "Review: ```{review_text}```\n",
    "\"\"\"\n",
    "\n",
    "prompt_2 = \"\"\"\n",
    "Given the following movie review, classify its sentiment as \"positive\" or \"negative\". Do not use capital letters.\n",
    "\n",
    "Review: ```{review_text}```\n",
    "\"\"\""
   ]
  },
  {
   "cell_type": "code",
   "execution_count": 29,
   "metadata": {},
   "outputs": [
    {
     "name": "stderr",
     "output_type": "stream",
     "text": [
      "/var/folders/xg/jz066c5d5jn87vqnb688_0d00000gn/T/ipykernel_44568/2251212028.py:5: SettingWithCopyWarning: \n",
      "A value is trying to be set on a copy of a slice from a DataFrame.\n",
      "Try using .loc[row_indexer,col_indexer] = value instead\n",
      "\n",
      "See the caveats in the documentation: https://pandas.pydata.org/pandas-docs/stable/user_guide/indexing.html#returning-a-view-versus-a-copy\n",
      "  df_small.at[index, column_name] = response.strip()\n",
      "/var/folders/xg/jz066c5d5jn87vqnb688_0d00000gn/T/ipykernel_44568/2251212028.py:5: SettingWithCopyWarning: \n",
      "A value is trying to be set on a copy of a slice from a DataFrame.\n",
      "Try using .loc[row_indexer,col_indexer] = value instead\n",
      "\n",
      "See the caveats in the documentation: https://pandas.pydata.org/pandas-docs/stable/user_guide/indexing.html#returning-a-view-versus-a-copy\n",
      "  df_small.at[index, column_name] = response.strip()\n"
     ]
    }
   ],
   "source": [
    "for prompt, column_name in [(prompt_1, 'predicted_sentiment_1'), (prompt_2, 'predicted_sentiment_2')]:\n",
    "    for index, row in df_small.iterrows():\n",
    "        review = row['review']\n",
    "        response = get_completion_from_messages(prompt, review)\n",
    "        df_small.at[index, column_name] = response.strip()"
   ]
  },
  {
   "cell_type": "code",
   "execution_count": 33,
   "metadata": {},
   "outputs": [
    {
     "name": "stderr",
     "output_type": "stream",
     "text": [
      "/var/folders/xg/jz066c5d5jn87vqnb688_0d00000gn/T/ipykernel_44568/595897597.py:2: SettingWithCopyWarning: \n",
      "A value is trying to be set on a copy of a slice from a DataFrame.\n",
      "Try using .loc[row_indexer,col_indexer] = value instead\n",
      "\n",
      "See the caveats in the documentation: https://pandas.pydata.org/pandas-docs/stable/user_guide/indexing.html#returning-a-view-versus-a-copy\n",
      "  df_small['sentiment'] = df_small['sentiment'].str.lower()\n",
      "/var/folders/xg/jz066c5d5jn87vqnb688_0d00000gn/T/ipykernel_44568/595897597.py:5: SettingWithCopyWarning: \n",
      "A value is trying to be set on a copy of a slice from a DataFrame.\n",
      "Try using .loc[row_indexer,col_indexer] = value instead\n",
      "\n",
      "See the caveats in the documentation: https://pandas.pydata.org/pandas-docs/stable/user_guide/indexing.html#returning-a-view-versus-a-copy\n",
      "  df_small['predicted_sentiment_1'] = df_small['predicted_sentiment_1'].str.lower()\n",
      "/var/folders/xg/jz066c5d5jn87vqnb688_0d00000gn/T/ipykernel_44568/595897597.py:6: SettingWithCopyWarning: \n",
      "A value is trying to be set on a copy of a slice from a DataFrame.\n",
      "Try using .loc[row_indexer,col_indexer] = value instead\n",
      "\n",
      "See the caveats in the documentation: https://pandas.pydata.org/pandas-docs/stable/user_guide/indexing.html#returning-a-view-versus-a-copy\n",
      "  df_small['predicted_sentiment_2'] = df_small['predicted_sentiment_2'].str.lower()\n"
     ]
    }
   ],
   "source": [
    "# Convert the 'sentiment' column to lowercase\n",
    "df_small['sentiment'] = df_small['sentiment'].str.lower()\n",
    "\n",
    "# Convert the predicted sentiment columns to lowercase\n",
    "df_small['predicted_sentiment_1'] = df_small['predicted_sentiment_1'].str.lower()\n",
    "df_small['predicted_sentiment_2'] = df_small['predicted_sentiment_2'].str.lower()"
   ]
  },
  {
   "cell_type": "code",
   "execution_count": 131,
   "metadata": {},
   "outputs": [],
   "source": [
    "for column_name in ['predicted_sentiment_1', 'predicted_sentiment_2']:\n",
    "    print(f\"Classification report for {column_name}:\")\n",
    "    predicted_labels = df_small[column_name]\n",
    "    report = classification_report(true_labels, predicted_labels, target_names=['negative', 'positive'])\n",
    "    print(report)\n",
    "    print(\"\\n\")"
   ]
  },
  {
   "cell_type": "markdown",
   "metadata": {},
   "source": [
    "**Automatically generate Prompts**"
   ]
  },
  {
   "cell_type": "code",
   "execution_count": 52,
   "metadata": {},
   "outputs": [],
   "source": [
    "original_prompt = \"\"\"\n",
    "Your task is to determine the sentiment of a movie review. Give your answer as either \"positive\" or \"negative\". Do not use capital letters.\n",
    "\n",
    "Review: ```{review_text}```\n",
    "\"\"\""
   ]
  },
  {
   "cell_type": "code",
   "execution_count": 124,
   "metadata": {},
   "outputs": [
    {
     "name": "stdout",
     "output_type": "stream",
     "text": [
      "Prompt 1:\n",
      "\n",
      "Your task is to determine the sentiment of a movie review. Give your answer as either \"positive\" or \"negative\". Do not use capital letters.\n",
      "\n",
      "Review: ```{review_text}```\n",
      "\n",
      "------------------------------------------------------------\n",
      "\n",
      "Prompt 2:\n",
      "Is the movie review positive or negative? State it in one word. Review: ```{review_text}```\n",
      "------------------------------------------------------------\n",
      "\n",
      "Prompt 3:\n",
      "Identify the sentiment as either \"positive\" or \"negative\" in the movie review. \n",
      "Review: `{review_text}`\n",
      "------------------------------------------------------------\n",
      "\n"
     ]
    }
   ],
   "source": [
    "def generate_prompt_variations(prompt):\n",
    "   \n",
    "    messages = [\n",
    "        {\"role\": \"user\", \"content\": \"\"\"Generate a good variation of the following instruction for a sentiment analysis task: Your task is to determine the sentiment of a movie review. Give your answer as either \"positive\" or \"negative\".\n",
    "        The Variation has to inlcude the following:\n",
    "         - Output only \"positive\" or \"negative\" in a single word \n",
    "         - Feel free to change the wording and the lenght of the prompt \n",
    "        Every variation has to end with the following: Review: ```{review_text}```\n",
    "        Make sure to have that exact same ending in every variation.\n",
    "         Do not ouput anything else but the prompt variation.\n",
    "         \"\"\"}\n",
    "    ]\n",
    "\n",
    "    response = client.chat.completions.create(\n",
    "        model=\"gpt-3.5-turbo\",\n",
    "        messages=messages,\n",
    "        temperature=0.8,\n",
    "        max_tokens=500,  \n",
    "        n=2,\n",
    "    )\n",
    "\n",
    "      # Assuming you want both variations, you'll need to extract both from the response\n",
    "    variations = [response.choices[i].message.content.strip() for i in range(len(response.choices))]\n",
    "\n",
    "    return variations\n",
    "\n",
    "# Generate variations\n",
    "prompt_variations = generate_prompt_variations(original_prompt)\n",
    "\n",
    "# Include the original prompt and the generated variations in a list\n",
    "prompts_with_variations = [original_prompt] + prompt_variations\n",
    "\n",
    "# Print all prompts to verify\n",
    "for idx, prompt in enumerate(prompts_with_variations, start=1):\n",
    "    print(f\"Prompt {idx}:\\n{prompt}\\n{'-'*60}\\n\")"
   ]
  },
  {
   "cell_type": "code",
   "execution_count": 116,
   "metadata": {},
   "outputs": [
    {
     "name": "stdout",
     "output_type": "stream",
     "text": [
      "['\\nYour task is to determine the sentiment of a movie review. Give your answer as either \"positive\" or \"negative\". Do not use capital letters.\\n\\nReview: ```{review_text}```\\n', 'Please analyze the sentiment of the movie review and provide your response as either \"positive\" or \"negative\". Review: ```{review_text}```', 'Determine if the sentiment of the movie review is \"positive\" or \"negative\". \\nReview: ```{review_text}```']\n"
     ]
    }
   ],
   "source": [
    "print(prompts_with_variations)"
   ]
  },
  {
   "cell_type": "markdown",
   "metadata": {},
   "source": [
    "**Put it all together**"
   ]
  },
  {
   "cell_type": "code",
   "execution_count": 120,
   "metadata": {},
   "outputs": [],
   "source": [
    "def get_completion_from_messages(prompt_template, review_text, model=\"gpt-3.5-turbo\", temperature=0):\n",
    "    formatted_prompt = prompt_template.format(review_text=review_text)\n",
    "    \n",
    "    # Assuming 'client' is already defined and authorized to use OpenAI's API\n",
    "    response = client.chat.completions.create(\n",
    "        model=model,\n",
    "        messages=[{\n",
    "            \"role\": \"user\",\n",
    "            \"content\": formatted_prompt\n",
    "        }],\n",
    "        temperature=temperature,\n",
    "    )\n",
    "    \n",
    "    return response.choices[0].message.content.strip().lower()"
   ]
  },
  {
   "cell_type": "code",
   "execution_count": 125,
   "metadata": {},
   "outputs": [],
   "source": [
    "for idx, prompt_template in enumerate(prompts_with_variations, start=1):\n",
    "    column_name = f'predicted_sentiment_{idx}'\n",
    "    \n",
    "    for index, row in df_small.iterrows():\n",
    "        review = row['review']\n",
    "        response = get_completion_from_messages(prompt_template, review)\n",
    "        df_small.at[index, column_name] = response.strip().lower()\n"
   ]
  },
  {
   "cell_type": "code",
   "execution_count": 126,
   "metadata": {},
   "outputs": [
    {
     "data": {
      "text/html": [
       "<div>\n",
       "<style scoped>\n",
       "    .dataframe tbody tr th:only-of-type {\n",
       "        vertical-align: middle;\n",
       "    }\n",
       "\n",
       "    .dataframe tbody tr th {\n",
       "        vertical-align: top;\n",
       "    }\n",
       "\n",
       "    .dataframe thead th {\n",
       "        text-align: right;\n",
       "    }\n",
       "</style>\n",
       "<table border=\"1\" class=\"dataframe\">\n",
       "  <thead>\n",
       "    <tr style=\"text-align: right;\">\n",
       "      <th></th>\n",
       "      <th>review</th>\n",
       "      <th>sentiment</th>\n",
       "      <th>predicted_sentiment</th>\n",
       "      <th>predicted_sentiment_1</th>\n",
       "      <th>predicted_sentiment_2</th>\n",
       "      <th>predicted_sentiment_3</th>\n",
       "    </tr>\n",
       "  </thead>\n",
       "  <tbody>\n",
       "    <tr>\n",
       "      <th>200</th>\n",
       "      <td>Interesting and short television movie describ...</td>\n",
       "      <td>negative</td>\n",
       "      <td>positive</td>\n",
       "      <td>positive</td>\n",
       "      <td>positive</td>\n",
       "      <td>positive</td>\n",
       "    </tr>\n",
       "    <tr>\n",
       "      <th>201</th>\n",
       "      <td>Any film about WWII made during WWII by a Brit...</td>\n",
       "      <td>positive</td>\n",
       "      <td>positive</td>\n",
       "      <td>positive</td>\n",
       "      <td>positive</td>\n",
       "      <td>positive</td>\n",
       "    </tr>\n",
       "    <tr>\n",
       "      <th>202</th>\n",
       "      <td>A brilliant horror film. Utterly gruesome and ...</td>\n",
       "      <td>positive</td>\n",
       "      <td>positive</td>\n",
       "      <td>positive</td>\n",
       "      <td>positive</td>\n",
       "      <td>positive</td>\n",
       "    </tr>\n",
       "    <tr>\n",
       "      <th>203</th>\n",
       "      <td>I absolutely love this film. Everything about ...</td>\n",
       "      <td>positive</td>\n",
       "      <td>positive</td>\n",
       "      <td>positive</td>\n",
       "      <td>positive</td>\n",
       "      <td>positive</td>\n",
       "    </tr>\n",
       "    <tr>\n",
       "      <th>204</th>\n",
       "      <td>No one can say I wasn't warned as I have read ...</td>\n",
       "      <td>negative</td>\n",
       "      <td>negative</td>\n",
       "      <td>negative</td>\n",
       "      <td>negative</td>\n",
       "      <td>negative</td>\n",
       "    </tr>\n",
       "  </tbody>\n",
       "</table>\n",
       "</div>"
      ],
      "text/plain": [
       "                                                review sentiment  \\\n",
       "200  Interesting and short television movie describ...  negative   \n",
       "201  Any film about WWII made during WWII by a Brit...  positive   \n",
       "202  A brilliant horror film. Utterly gruesome and ...  positive   \n",
       "203  I absolutely love this film. Everything about ...  positive   \n",
       "204  No one can say I wasn't warned as I have read ...  negative   \n",
       "\n",
       "    predicted_sentiment predicted_sentiment_1 predicted_sentiment_2  \\\n",
       "200            positive              positive              positive   \n",
       "201            positive              positive              positive   \n",
       "202            positive              positive              positive   \n",
       "203            positive              positive              positive   \n",
       "204            negative              negative              negative   \n",
       "\n",
       "    predicted_sentiment_3  \n",
       "200              positive  \n",
       "201              positive  \n",
       "202              positive  \n",
       "203              positive  \n",
       "204              negative  "
      ]
     },
     "execution_count": 126,
     "metadata": {},
     "output_type": "execute_result"
    }
   ],
   "source": [
    "df_small.head()"
   ]
  },
  {
   "cell_type": "code",
   "execution_count": 129,
   "metadata": {},
   "outputs": [
    {
     "name": "stderr",
     "output_type": "stream",
     "text": [
      "/var/folders/xg/jz066c5d5jn87vqnb688_0d00000gn/T/ipykernel_44568/2808367797.py:2: SettingWithCopyWarning: \n",
      "A value is trying to be set on a copy of a slice from a DataFrame\n",
      "\n",
      "See the caveats in the documentation: https://pandas.pydata.org/pandas-docs/stable/user_guide/indexing.html#returning-a-view-versus-a-copy\n",
      "  df_small.drop(columns=['predicted_sentiment'], inplace=True)\n"
     ]
    }
   ],
   "source": [
    "# Assuming you have a DataFrame df and you want to drop the column 'unwanted_column'\n",
    "df_small.drop(columns=['predicted_sentiment'], inplace=True)\n"
   ]
  },
  {
   "cell_type": "code",
   "execution_count": 132,
   "metadata": {},
   "outputs": [],
   "source": [
    "# After running the predictions, you may want to compare the results\n",
    "for idx in range(1, len(prompts_with_variations) + 1):\n",
    "    column_name = f'predicted_sentiment_{idx}'\n",
    "    predicted_labels = df_small[column_name]\n",
    "    \n",
    "    # Generate classification report as a dictionary\n",
    "    report_dict = classification_report(true_labels, predicted_labels, target_names=['negative', 'positive'], output_dict=True)\n",
    "    \n",
    "    # Extract the F1 scores\n",
    "    f1_score_negative = report_dict['negative']['f1-score']\n",
    "    f1_score_positive = report_dict['positive']['f1-score']\n",
    "    f1_score_average = report_dict['macro avg']['f1-score']  # or 'weighted avg' for weighted average\n",
    "    \n",
    "    # Store the scores in the f1_scores dictionary\n",
    "    f1_scores[column_name] = {\n",
    "        'negative': f1_score_negative,\n",
    "        'positive': f1_score_positive,\n",
    "        'average': f1_score_average\n",
    "    }"
   ]
  },
  {
   "cell_type": "code",
   "execution_count": 134,
   "metadata": {},
   "outputs": [
    {
     "data": {
      "image/png": "[encoded data removed]",
      "text/plain": [
       "<Figure size 640x480 with 1 Axes>"
      ]
     },
     "metadata": {},
     "output_type": "display_data"
    }
   ],
   "source": [
    "import matplotlib.pyplot as plt\n",
    "import numpy as np\n",
    "\n",
    "# Setup for plotting\n",
    "categories = ['negative', 'positive', 'average']\n",
    "n_categories = len(categories)\n",
    "n_predictions = len(f1_scores)\n",
    "\n",
    "# Create a figure and a set of subplots\n",
    "fig, ax = plt.subplots()\n",
    "\n",
    "# Index for each of the bars\n",
    "index = np.arange(n_predictions)\n",
    "bar_width = 0.2\n",
    "\n",
    "# Plotting each category\n",
    "for i, category in enumerate(categories):\n",
    "    scores = [f1_scores[prediction][category] for prediction in f1_scores]\n",
    "    ax.bar(index + i * bar_width, scores, bar_width, label=category)\n",
    "\n",
    "# Add some text for labels, title, and custom x-axis tick labels, etc.\n",
    "ax.set_xlabel('Predicted Sentiment')\n",
    "ax.set_ylabel('F1 Score')\n",
    "ax.set_title('F1 Scores by Predicted Sentiment and Category')\n",
    "ax.set_xticks(index + bar_width / n_categories)\n",
    "ax.set_xticklabels(list(f1_scores.keys()))\n",
    "ax.legend()\n",
    "\n",
    "# Make layout more compact\n",
    "plt.tight_layout()\n",
    "\n",
    "# Show plot\n",
    "plt.show()\n"
   ]
  },
  {
   "cell_type": "code",
   "execution_count": null,
   "metadata": {},
   "outputs": [],
   "source": []
  }
 ],
 "metadata": {
  "kernelspec": {
   "display_name": "myenv",
   "language": "python",
   "name": "myenv"
  },
  "language_info": {
   "codemirror_mode": {
    "name": "ipython",
    "version": 3
   },
   "file_extension": ".py",
   "mimetype": "text/x-python",
   "name": "python",
   "nbconvert_exporter": "python",
   "pygments_lexer": "ipython3",
   "version": "3.8.9"
  }
 },
 "nbformat": 4,
 "nbformat_minor": 2
}
