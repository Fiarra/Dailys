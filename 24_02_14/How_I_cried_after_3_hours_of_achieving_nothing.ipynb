{
 "cells": [
  {
   "cell_type": "code",
   "execution_count": 8,
   "metadata": {},
   "outputs": [],
   "source": [
    "import os\n",
    "from dotenv import load_dotenv\n",
    "import openai\n",
    "import csv\n",
    "import pandas as pd\n",
    "from openai import OpenAI\n",
    "import json\n",
    "import instaloader\n",
    "from datetime import datetime\n",
    "from itertools import dropwhile, takewhile"
   ]
  },
  {
   "cell_type": "code",
   "execution_count": 3,
   "metadata": {},
   "outputs": [],
   "source": [
    "# Load environment variables\n",
    "load_dotenv()\n",
    "openai_api_key = os.getenv(\"OPENAI_API_KEY\")\n",
    "if not openai_api_key:\n",
    "    raise ValueError(\"No OpenAI API key found. Check your .env file.\")\n",
    "\n",
    "openai.api_key = openai_api_key"
   ]
  },
  {
   "cell_type": "code",
   "execution_count": 13,
   "metadata": {},
   "outputs": [
    {
     "name": "stdout",
     "output_type": "stream",
     "text": [
      "fiarra_maureen/2015-10-10_15-07-14_UTC_profile_pic.jpg already exists\n"
     ]
    },
    {
     "name": "stderr",
     "output_type": "stream",
     "text": [
      "JSON Query to explore/tags/fiarra_maureen/: 404 Not Found [retrying; skip with ^C]\n",
      "JSON Query to explore/tags/fiarra_maureen/: 404 Not Found [retrying; skip with ^C]\n"
     ]
    },
    {
     "ename": "QueryReturnedNotFoundException",
     "evalue": "JSON Query to explore/tags/fiarra_maureen/: 404 Not Found",
     "output_type": "error",
     "traceback": [
      "\u001b[0;31m---------------------------------------------------------------------------\u001b[0m",
      "\u001b[0;31mQueryReturnedNotFoundException\u001b[0m            Traceback (most recent call last)",
      "File \u001b[0;32m~/myenv/lib/python3.8/site-packages/instaloader/instaloadercontext.py:405\u001b[0m, in \u001b[0;36mInstaloaderContext.get_json\u001b[0;34m(self, path, params, host, session, _attempt, response_headers)\u001b[0m\n\u001b[1;32m    404\u001b[0m \u001b[38;5;28;01mif\u001b[39;00m resp\u001b[38;5;241m.\u001b[39mstatus_code \u001b[38;5;241m==\u001b[39m \u001b[38;5;241m404\u001b[39m:\n\u001b[0;32m--> 405\u001b[0m     \u001b[38;5;28;01mraise\u001b[39;00m QueryReturnedNotFoundException(\u001b[38;5;124m\"\u001b[39m\u001b[38;5;124m404 Not Found\u001b[39m\u001b[38;5;124m\"\u001b[39m)\n\u001b[1;32m    406\u001b[0m \u001b[38;5;28;01mif\u001b[39;00m resp\u001b[38;5;241m.\u001b[39mstatus_code \u001b[38;5;241m==\u001b[39m \u001b[38;5;241m429\u001b[39m:\n",
      "\u001b[0;31mQueryReturnedNotFoundException\u001b[0m: 404 Not Found",
      "\nDuring handling of the above exception, another exception occurred:\n",
      "\u001b[0;31mQueryReturnedNotFoundException\u001b[0m            Traceback (most recent call last)",
      "File \u001b[0;32m~/myenv/lib/python3.8/site-packages/instaloader/instaloadercontext.py:405\u001b[0m, in \u001b[0;36mInstaloaderContext.get_json\u001b[0;34m(self, path, params, host, session, _attempt, response_headers)\u001b[0m\n\u001b[1;32m    404\u001b[0m \u001b[38;5;28;01mif\u001b[39;00m resp\u001b[38;5;241m.\u001b[39mstatus_code \u001b[38;5;241m==\u001b[39m \u001b[38;5;241m404\u001b[39m:\n\u001b[0;32m--> 405\u001b[0m     \u001b[38;5;28;01mraise\u001b[39;00m QueryReturnedNotFoundException(\u001b[38;5;124m\"\u001b[39m\u001b[38;5;124m404 Not Found\u001b[39m\u001b[38;5;124m\"\u001b[39m)\n\u001b[1;32m    406\u001b[0m \u001b[38;5;28;01mif\u001b[39;00m resp\u001b[38;5;241m.\u001b[39mstatus_code \u001b[38;5;241m==\u001b[39m \u001b[38;5;241m429\u001b[39m:\n",
      "\u001b[0;31mQueryReturnedNotFoundException\u001b[0m: 404 Not Found",
      "\nDuring handling of the above exception, another exception occurred:\n",
      "\u001b[0;31mQueryReturnedNotFoundException\u001b[0m            Traceback (most recent call last)",
      "File \u001b[0;32m~/myenv/lib/python3.8/site-packages/instaloader/instaloadercontext.py:405\u001b[0m, in \u001b[0;36mInstaloaderContext.get_json\u001b[0;34m(self, path, params, host, session, _attempt, response_headers)\u001b[0m\n\u001b[1;32m    404\u001b[0m \u001b[38;5;28;01mif\u001b[39;00m resp\u001b[38;5;241m.\u001b[39mstatus_code \u001b[38;5;241m==\u001b[39m \u001b[38;5;241m404\u001b[39m:\n\u001b[0;32m--> 405\u001b[0m     \u001b[38;5;28;01mraise\u001b[39;00m QueryReturnedNotFoundException(\u001b[38;5;124m\"\u001b[39m\u001b[38;5;124m404 Not Found\u001b[39m\u001b[38;5;124m\"\u001b[39m)\n\u001b[1;32m    406\u001b[0m \u001b[38;5;28;01mif\u001b[39;00m resp\u001b[38;5;241m.\u001b[39mstatus_code \u001b[38;5;241m==\u001b[39m \u001b[38;5;241m429\u001b[39m:\n",
      "\u001b[0;31mQueryReturnedNotFoundException\u001b[0m: 404 Not Found",
      "\nThe above exception was the direct cause of the following exception:\n",
      "\u001b[0;31mQueryReturnedNotFoundException\u001b[0m            Traceback (most recent call last)",
      "Cell \u001b[0;32mIn[13], line 75\u001b[0m\n\u001b[1;32m     73\u001b[0m \u001b[38;5;28mcls\u001b[39m\u001b[38;5;241m.\u001b[39mdownload_users_profile_picture(\u001b[38;5;124m\"\u001b[39m\u001b[38;5;124mfiarra_maureen\u001b[39m\u001b[38;5;124m\"\u001b[39m)\n\u001b[1;32m     74\u001b[0m \u001b[38;5;28mcls\u001b[39m\u001b[38;5;241m.\u001b[39mdownload_users_posts_with_periods(\u001b[38;5;124m\"\u001b[39m\u001b[38;5;124mfiarra_maureen\u001b[39m\u001b[38;5;124m\"\u001b[39m)\n\u001b[0;32m---> 75\u001b[0m \u001b[38;5;28;43mcls\u001b[39;49m\u001b[38;5;241;43m.\u001b[39;49m\u001b[43mdownload_hastag_posts\u001b[49m\u001b[43m(\u001b[49m\u001b[38;5;124;43m\"\u001b[39;49m\u001b[38;5;124;43mfiarra_maureen\u001b[39;49m\u001b[38;5;124;43m\"\u001b[39;49m\u001b[43m)\u001b[49m\n\u001b[1;32m     76\u001b[0m \u001b[38;5;66;03m# cls.get_users_followers(\"fiarra_maureen\")\u001b[39;00m\n\u001b[1;32m     77\u001b[0m \u001b[38;5;66;03m# cls.get_users_followings(\"fiarra_maureen\")\u001b[39;00m\n\u001b[1;32m     78\u001b[0m \u001b[38;5;28mcls\u001b[39m\u001b[38;5;241m.\u001b[39mget_post_comments(\u001b[38;5;124m\"\u001b[39m\u001b[38;5;124mfiarra_maureen\u001b[39m\u001b[38;5;124m\"\u001b[39m)\n",
      "Cell \u001b[0;32mIn[13], line 22\u001b[0m, in \u001b[0;36mGetInstagramProfile.download_hastag_posts\u001b[0;34m(self, hashtag)\u001b[0m\n\u001b[1;32m     20\u001b[0m \u001b[38;5;28;01mdef\u001b[39;00m \u001b[38;5;21mdownload_hastag_posts\u001b[39m(\u001b[38;5;28mself\u001b[39m, hashtag):\n\u001b[1;32m     21\u001b[0m     \u001b[38;5;66;03m# Downloads posts associated with a specific hashtag.\u001b[39;00m\n\u001b[0;32m---> 22\u001b[0m     \u001b[38;5;28;01mfor\u001b[39;00m post \u001b[38;5;129;01min\u001b[39;00m \u001b[43minstaloader\u001b[49m\u001b[38;5;241;43m.\u001b[39;49m\u001b[43mHashtag\u001b[49m\u001b[38;5;241;43m.\u001b[39;49m\u001b[43mfrom_name\u001b[49m\u001b[43m(\u001b[49m\u001b[38;5;28;43mself\u001b[39;49m\u001b[38;5;241;43m.\u001b[39;49m\u001b[43mL\u001b[49m\u001b[38;5;241;43m.\u001b[39;49m\u001b[43mcontext\u001b[49m\u001b[43m,\u001b[49m\u001b[43m \u001b[49m\u001b[43mhashtag\u001b[49m\u001b[43m)\u001b[49m\u001b[38;5;241m.\u001b[39mget_posts():\n\u001b[1;32m     23\u001b[0m         \u001b[38;5;28mself\u001b[39m\u001b[38;5;241m.\u001b[39mL\u001b[38;5;241m.\u001b[39mdownload_post(post, target\u001b[38;5;241m=\u001b[39m\u001b[38;5;124m'\u001b[39m\u001b[38;5;124m#\u001b[39m\u001b[38;5;124m'\u001b[39m\u001b[38;5;241m+\u001b[39mhashtag)\n",
      "File \u001b[0;32m~/myenv/lib/python3.8/site-packages/instaloader/structures.py:1735\u001b[0m, in \u001b[0;36mHashtag.from_name\u001b[0;34m(cls, context, name)\u001b[0m\n\u001b[1;32m   1733\u001b[0m \u001b[38;5;66;03m# pylint:disable=protected-access\u001b[39;00m\n\u001b[1;32m   1734\u001b[0m hashtag \u001b[38;5;241m=\u001b[39m \u001b[38;5;28mcls\u001b[39m(context, {\u001b[38;5;124m'\u001b[39m\u001b[38;5;124mname\u001b[39m\u001b[38;5;124m'\u001b[39m: name\u001b[38;5;241m.\u001b[39mlower()})\n\u001b[0;32m-> 1735\u001b[0m \u001b[43mhashtag\u001b[49m\u001b[38;5;241;43m.\u001b[39;49m\u001b[43m_obtain_metadata\u001b[49m\u001b[43m(\u001b[49m\u001b[43m)\u001b[49m\n\u001b[1;32m   1736\u001b[0m \u001b[38;5;28;01mreturn\u001b[39;00m hashtag\n",
      "File \u001b[0;32m~/myenv/lib/python3.8/site-packages/instaloader/structures.py:1749\u001b[0m, in \u001b[0;36mHashtag._obtain_metadata\u001b[0;34m(self)\u001b[0m\n\u001b[1;32m   1747\u001b[0m \u001b[38;5;28;01mdef\u001b[39;00m \u001b[38;5;21m_obtain_metadata\u001b[39m(\u001b[38;5;28mself\u001b[39m):\n\u001b[1;32m   1748\u001b[0m     \u001b[38;5;28;01mif\u001b[39;00m \u001b[38;5;129;01mnot\u001b[39;00m \u001b[38;5;28mself\u001b[39m\u001b[38;5;241m.\u001b[39m_has_full_metadata:\n\u001b[0;32m-> 1749\u001b[0m         \u001b[38;5;28mself\u001b[39m\u001b[38;5;241m.\u001b[39m_node \u001b[38;5;241m=\u001b[39m \u001b[38;5;28;43mself\u001b[39;49m\u001b[38;5;241;43m.\u001b[39;49m\u001b[43m_query\u001b[49m\u001b[43m(\u001b[49m\u001b[43m{\u001b[49m\u001b[38;5;124;43m\"\u001b[39;49m\u001b[38;5;124;43m__a\u001b[39;49m\u001b[38;5;124;43m\"\u001b[39;49m\u001b[43m:\u001b[49m\u001b[43m \u001b[49m\u001b[38;5;241;43m1\u001b[39;49m\u001b[43m,\u001b[49m\u001b[43m \u001b[49m\u001b[38;5;124;43m\"\u001b[39;49m\u001b[38;5;124;43m__d\u001b[39;49m\u001b[38;5;124;43m\"\u001b[39;49m\u001b[43m:\u001b[49m\u001b[43m \u001b[49m\u001b[38;5;124;43m\"\u001b[39;49m\u001b[38;5;124;43mdis\u001b[39;49m\u001b[38;5;124;43m\"\u001b[39;49m\u001b[43m}\u001b[49m\u001b[43m)\u001b[49m\n\u001b[1;32m   1750\u001b[0m         \u001b[38;5;28mself\u001b[39m\u001b[38;5;241m.\u001b[39m_has_full_metadata \u001b[38;5;241m=\u001b[39m \u001b[38;5;28;01mTrue\u001b[39;00m\n",
      "File \u001b[0;32m~/myenv/lib/python3.8/site-packages/instaloader/structures.py:1744\u001b[0m, in \u001b[0;36mHashtag._query\u001b[0;34m(self, params)\u001b[0m\n\u001b[1;32m   1743\u001b[0m \u001b[38;5;28;01mdef\u001b[39;00m \u001b[38;5;21m_query\u001b[39m(\u001b[38;5;28mself\u001b[39m, params):\n\u001b[0;32m-> 1744\u001b[0m     json_response \u001b[38;5;241m=\u001b[39m \u001b[38;5;28;43mself\u001b[39;49m\u001b[38;5;241;43m.\u001b[39;49m\u001b[43m_context\u001b[49m\u001b[38;5;241;43m.\u001b[39;49m\u001b[43mget_json\u001b[49m\u001b[43m(\u001b[49m\u001b[38;5;124;43m\"\u001b[39;49m\u001b[38;5;124;43mexplore/tags/\u001b[39;49m\u001b[38;5;132;43;01m{0}\u001b[39;49;00m\u001b[38;5;124;43m/\u001b[39;49m\u001b[38;5;124;43m\"\u001b[39;49m\u001b[38;5;241;43m.\u001b[39;49m\u001b[43mformat\u001b[49m\u001b[43m(\u001b[49m\u001b[38;5;28;43mself\u001b[39;49m\u001b[38;5;241;43m.\u001b[39;49m\u001b[43mname\u001b[49m\u001b[43m)\u001b[49m\u001b[43m,\u001b[49m\u001b[43m \u001b[49m\u001b[43mparams\u001b[49m\u001b[43m)\u001b[49m\n\u001b[1;32m   1745\u001b[0m     \u001b[38;5;28;01mreturn\u001b[39;00m json_response[\u001b[38;5;124m\"\u001b[39m\u001b[38;5;124mgraphql\u001b[39m\u001b[38;5;124m\"\u001b[39m][\u001b[38;5;124m\"\u001b[39m\u001b[38;5;124mhashtag\u001b[39m\u001b[38;5;124m\"\u001b[39m] \u001b[38;5;28;01mif\u001b[39;00m \u001b[38;5;124m\"\u001b[39m\u001b[38;5;124mgraphql\u001b[39m\u001b[38;5;124m\"\u001b[39m \u001b[38;5;129;01min\u001b[39;00m json_response \u001b[38;5;28;01melse\u001b[39;00m json_response[\u001b[38;5;124m\"\u001b[39m\u001b[38;5;124mdata\u001b[39m\u001b[38;5;124m\"\u001b[39m]\n",
      "File \u001b[0;32m~/myenv/lib/python3.8/site-packages/instaloader/instaloadercontext.py:435\u001b[0m, in \u001b[0;36mInstaloaderContext.get_json\u001b[0;34m(self, path, params, host, session, _attempt, response_headers)\u001b[0m\n\u001b[1;32m    433\u001b[0m         \u001b[38;5;28;01mif\u001b[39;00m is_other_query:\n\u001b[1;32m    434\u001b[0m             \u001b[38;5;28mself\u001b[39m\u001b[38;5;241m.\u001b[39m_rate_controller\u001b[38;5;241m.\u001b[39mhandle_429(\u001b[38;5;124m'\u001b[39m\u001b[38;5;124mother\u001b[39m\u001b[38;5;124m'\u001b[39m)\n\u001b[0;32m--> 435\u001b[0m     \u001b[38;5;28;01mreturn\u001b[39;00m \u001b[38;5;28;43mself\u001b[39;49m\u001b[38;5;241;43m.\u001b[39;49m\u001b[43mget_json\u001b[49m\u001b[43m(\u001b[49m\u001b[43mpath\u001b[49m\u001b[38;5;241;43m=\u001b[39;49m\u001b[43mpath\u001b[49m\u001b[43m,\u001b[49m\u001b[43m \u001b[49m\u001b[43mparams\u001b[49m\u001b[38;5;241;43m=\u001b[39;49m\u001b[43mparams\u001b[49m\u001b[43m,\u001b[49m\u001b[43m \u001b[49m\u001b[43mhost\u001b[49m\u001b[38;5;241;43m=\u001b[39;49m\u001b[43mhost\u001b[49m\u001b[43m,\u001b[49m\u001b[43m \u001b[49m\u001b[43msession\u001b[49m\u001b[38;5;241;43m=\u001b[39;49m\u001b[43msess\u001b[49m\u001b[43m,\u001b[49m\u001b[43m \u001b[49m\u001b[43m_attempt\u001b[49m\u001b[38;5;241;43m=\u001b[39;49m\u001b[43m_attempt\u001b[49m\u001b[43m \u001b[49m\u001b[38;5;241;43m+\u001b[39;49m\u001b[43m \u001b[49m\u001b[38;5;241;43m1\u001b[39;49m\u001b[43m,\u001b[49m\n\u001b[1;32m    436\u001b[0m \u001b[43m                         \u001b[49m\u001b[43mresponse_headers\u001b[49m\u001b[38;5;241;43m=\u001b[39;49m\u001b[43mresponse_headers\u001b[49m\u001b[43m)\u001b[49m\n\u001b[1;32m    437\u001b[0m \u001b[38;5;28;01mexcept\u001b[39;00m \u001b[38;5;167;01mKeyboardInterrupt\u001b[39;00m:\n\u001b[1;32m    438\u001b[0m     \u001b[38;5;28mself\u001b[39m\u001b[38;5;241m.\u001b[39merror(\u001b[38;5;124m\"\u001b[39m\u001b[38;5;124m[skipped by user]\u001b[39m\u001b[38;5;124m\"\u001b[39m, repeat_at_end\u001b[38;5;241m=\u001b[39m\u001b[38;5;28;01mFalse\u001b[39;00m)\n",
      "File \u001b[0;32m~/myenv/lib/python3.8/site-packages/instaloader/instaloadercontext.py:435\u001b[0m, in \u001b[0;36mInstaloaderContext.get_json\u001b[0;34m(self, path, params, host, session, _attempt, response_headers)\u001b[0m\n\u001b[1;32m    433\u001b[0m         \u001b[38;5;28;01mif\u001b[39;00m is_other_query:\n\u001b[1;32m    434\u001b[0m             \u001b[38;5;28mself\u001b[39m\u001b[38;5;241m.\u001b[39m_rate_controller\u001b[38;5;241m.\u001b[39mhandle_429(\u001b[38;5;124m'\u001b[39m\u001b[38;5;124mother\u001b[39m\u001b[38;5;124m'\u001b[39m)\n\u001b[0;32m--> 435\u001b[0m     \u001b[38;5;28;01mreturn\u001b[39;00m \u001b[38;5;28;43mself\u001b[39;49m\u001b[38;5;241;43m.\u001b[39;49m\u001b[43mget_json\u001b[49m\u001b[43m(\u001b[49m\u001b[43mpath\u001b[49m\u001b[38;5;241;43m=\u001b[39;49m\u001b[43mpath\u001b[49m\u001b[43m,\u001b[49m\u001b[43m \u001b[49m\u001b[43mparams\u001b[49m\u001b[38;5;241;43m=\u001b[39;49m\u001b[43mparams\u001b[49m\u001b[43m,\u001b[49m\u001b[43m \u001b[49m\u001b[43mhost\u001b[49m\u001b[38;5;241;43m=\u001b[39;49m\u001b[43mhost\u001b[49m\u001b[43m,\u001b[49m\u001b[43m \u001b[49m\u001b[43msession\u001b[49m\u001b[38;5;241;43m=\u001b[39;49m\u001b[43msess\u001b[49m\u001b[43m,\u001b[49m\u001b[43m \u001b[49m\u001b[43m_attempt\u001b[49m\u001b[38;5;241;43m=\u001b[39;49m\u001b[43m_attempt\u001b[49m\u001b[43m \u001b[49m\u001b[38;5;241;43m+\u001b[39;49m\u001b[43m \u001b[49m\u001b[38;5;241;43m1\u001b[39;49m\u001b[43m,\u001b[49m\n\u001b[1;32m    436\u001b[0m \u001b[43m                         \u001b[49m\u001b[43mresponse_headers\u001b[49m\u001b[38;5;241;43m=\u001b[39;49m\u001b[43mresponse_headers\u001b[49m\u001b[43m)\u001b[49m\n\u001b[1;32m    437\u001b[0m \u001b[38;5;28;01mexcept\u001b[39;00m \u001b[38;5;167;01mKeyboardInterrupt\u001b[39;00m:\n\u001b[1;32m    438\u001b[0m     \u001b[38;5;28mself\u001b[39m\u001b[38;5;241m.\u001b[39merror(\u001b[38;5;124m\"\u001b[39m\u001b[38;5;124m[skipped by user]\u001b[39m\u001b[38;5;124m\"\u001b[39m, repeat_at_end\u001b[38;5;241m=\u001b[39m\u001b[38;5;28;01mFalse\u001b[39;00m)\n",
      "File \u001b[0;32m~/myenv/lib/python3.8/site-packages/instaloader/instaloadercontext.py:423\u001b[0m, in \u001b[0;36mInstaloaderContext.get_json\u001b[0;34m(self, path, params, host, session, _attempt, response_headers)\u001b[0m\n\u001b[1;32m    421\u001b[0m \u001b[38;5;28;01mif\u001b[39;00m _attempt \u001b[38;5;241m==\u001b[39m \u001b[38;5;28mself\u001b[39m\u001b[38;5;241m.\u001b[39mmax_connection_attempts:\n\u001b[1;32m    422\u001b[0m     \u001b[38;5;28;01mif\u001b[39;00m \u001b[38;5;28misinstance\u001b[39m(err, QueryReturnedNotFoundException):\n\u001b[0;32m--> 423\u001b[0m         \u001b[38;5;28;01mraise\u001b[39;00m QueryReturnedNotFoundException(error_string) \u001b[38;5;28;01mfrom\u001b[39;00m \u001b[38;5;21;01merr\u001b[39;00m\n\u001b[1;32m    424\u001b[0m     \u001b[38;5;28;01melse\u001b[39;00m:\n\u001b[1;32m    425\u001b[0m         \u001b[38;5;28;01mraise\u001b[39;00m ConnectionException(error_string) \u001b[38;5;28;01mfrom\u001b[39;00m \u001b[38;5;21;01merr\u001b[39;00m\n",
      "\u001b[0;31mQueryReturnedNotFoundException\u001b[0m: JSON Query to explore/tags/fiarra_maureen/: 404 Not Found"
     ]
    }
   ],
   "source": [
    "class GetInstagramProfile():\n",
    "    def __init__(self) -> None:\n",
    "        # Initializes the Instaloader object for downloading data from Instagram.\n",
    "        self.L = instaloader.Instaloader()\n",
    "\n",
    "    def download_users_profile_picture(self, username):\n",
    "        # Downloads the profile picture of the specified username.\n",
    "        self.L.download_profile(username, profile_pic_only=True)\n",
    "\n",
    "    def download_users_posts_with_periods(self, username):\n",
    "        # Downloads posts of a user within a specific date range.\n",
    "        posts = instaloader.Profile.from_username(self.L.context, username).get_posts()\n",
    "        SINCE = datetime(2034, 2, 1)  # Start date\n",
    "        UNTIL = datetime(2024, 2, 14)  # End date\n",
    "\n",
    "        # Filters posts within the specified date range and downloads them.\n",
    "        for post in takewhile(lambda p: p.date > SINCE, dropwhile(lambda p: p.date > UNTIL, posts)):\n",
    "            self.L.download_post(post, username)\n",
    "\n",
    "    def download_hastag_posts(self, hashtag):\n",
    "        # Downloads posts associated with a specific hashtag.\n",
    "        for post in instaloader.Hashtag.from_name(self.L.context, hashtag).get_posts():\n",
    "            self.L.download_post(post, target='#'+hashtag)\n",
    "\n",
    "    def get_users_followers(self, user_name):\n",
    "        '''Note: login required to get a profile's followers.'''\n",
    "        # Prompts the user to login for accessing follower data.\n",
    "        self.L.login(input(\"input your username: \"), input(\"input your password: \"))\n",
    "        profile = instaloader.Profile.from_username(self.L.context, user_name)\n",
    "        file = open(\"follower_names.txt\", \"a+\")\n",
    "        for followee in profile.get_followers():\n",
    "            username = followee.username\n",
    "            file.write(username + \"\\n\")\n",
    "            print(username)\n",
    "\n",
    "    def get_users_followings(self, user_name):\n",
    "        '''Note: login required to get a profile's followings.'''\n",
    "        # Similar to get_users_followers, but for retrieving who a user is following.\n",
    "        self.L.login(input(\"input your username: \"), input(\"input your password: \"))\n",
    "        profile = instaloader.Profile.from_username(self.L.context, user_name)\n",
    "        file = open(\"following_names.txt\", \"a+\")\n",
    "        for followee in profile.get_followees():\n",
    "            username = followee.username\n",
    "            file.write(username + \"\\n\")\n",
    "            print(username)\n",
    "\n",
    "    def get_post_comments(self, username):\n",
    "        # Retrieves and prints comments for each post of a specified user.\n",
    "        posts = instaloader.Profile.from_username(self.L.context, username).get_posts()\n",
    "        for post in posts:\n",
    "            for comment in post.get_comments():\n",
    "                print(\"comment.id  : \"+str(comment.id))\n",
    "                print(\"comment.owner.username  : \"+comment.owner.username)\n",
    "                print(\"comment.text  : \"+comment.text)\n",
    "                print(\"comment.created_at_utc  : \"+str(comment.created_at_utc))\n",
    "                print(\"************************************************\")\n",
    "\n",
    "    def get_post_info_csv(self, username):\n",
    "        # Extracts detailed information about each post from a specified user and saves it into a CSV file.\n",
    "        with open(username+'.csv', 'w', newline='', encoding='utf-8') as file:\n",
    "            writer = csv.writer(file)\n",
    "            posts = instaloader.Profile.from_username(self.L.context, username).get_posts()\n",
    "            for post in posts:\n",
    "                posturl = \"https://www.instagram.com/p/\"+post.shortcode\n",
    "                writer.writerow([\"post\", post.mediaid, post.profile, post.caption, post.date, post.location, posturl, post.typename, post.mediacount, post.caption_hashtags, post.caption_mentions, post.tagged_users, post.likes, post.comments, post.title, post.url])\n",
    "                \n",
    "                for comment in post.get_comments():\n",
    "                    writer.writerow([\"comment\", comment.id, comment.owner.username, comment.text, comment.created_at_utc])\n",
    "\n",
    "if __name__ == \"__main__\":\n",
    "    cls = GetInstagramProfile()\n",
    "    # Uncomment the method you want to run. Make sure to provide the correct usernames or hashtags.\n",
    "    cls.download_users_profile_picture(\"zuckerjagdwurst\")\n",
    "    cls.download_users_posts_with_periods(\"zuckerjagdwurst\")\n",
    "    cls.download_hastag_posts(\"zuckerjagdwurst\")\n",
    "    # cls.get_users_followers(\"zuckerjagdwurst\")\n",
    "    # cls.get_users_followings(\"zuckerjagdwurst\")\n",
    "    cls.get_post_comments(\"zuckerjagdwurst\")\n",
    "    cls.get_post_info_csv(\"zuckerjagdwurst\")"
   ]
  },
  {
   "cell_type": "code",
   "execution_count": null,
   "metadata": {},
   "outputs": [],
   "source": []
  }
 ],
 "metadata": {
  "kernelspec": {
   "display_name": "myenv",
   "language": "python",
   "name": "myenv"
  },
  "language_info": {
   "codemirror_mode": {
    "name": "ipython",
    "version": 3
   },
   "file_extension": ".py",
   "mimetype": "text/x-python",
   "name": "python",
   "nbconvert_exporter": "python",
   "pygments_lexer": "ipython3",
   "version": "3.8.9"
  }
 },
 "nbformat": 4,
 "nbformat_minor": 2
}
