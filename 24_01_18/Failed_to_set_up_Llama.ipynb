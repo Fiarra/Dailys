{
 "cells": [
  {
   "cell_type": "code",
   "execution_count": 2,
   "metadata": {},
   "outputs": [],
   "source": [
    "import os\n",
    "from dotenv import load_dotenv\n",
    "import openai\n",
    "from openai import OpenAI\n",
    "import csv"
   ]
  },
  {
   "cell_type": "code",
   "execution_count": 3,
   "metadata": {},
   "outputs": [],
   "source": [
    "# Load environment variables\n",
    "load_dotenv()\n",
    "openai_api_key = os.getenv(\"OPENAI_API_KEY\")\n",
    "if not openai_api_key:\n",
    "    raise ValueError(\"No OpenAI API key found. Check your .env file.\")"
   ]
  },
  {
   "cell_type": "code",
   "execution_count": 4,
   "metadata": {},
   "outputs": [],
   "source": [
    "# Set the API key for OpenAI\n",
    "openai.api_key = openai_api_key"
   ]
  },
  {
   "cell_type": "code",
   "execution_count": 6,
   "metadata": {},
   "outputs": [
    {
     "name": "stdout",
     "output_type": "stream",
     "text": [
      "Answer:\n",
      "1. Language Understanding: GPT-3.5 has a significantly better language understanding capability compared to Llama 2. Its vast amount of training data enables it to comprehend and generate text with impressive accuracy.\n",
      "\n",
      "2. Contextual Understanding: GPT-3.5 excels at understanding the context of a conversation or a prompt. It can generate responses that are relevant to the given context, making the conversation flow more smoothly.\n",
      "\n",
      "3. Generalization: GPT-3.5 can generalize from specific examples and provide meaningful responses without needing explicit instructions for every specific case. It has the ability to understand and apply knowledge from a wide range of domains.\n",
      "\n",
      "4. Advanced Reasoning: GPT-3.5 can perform advanced reasoning tasks, such as making logical deductions, solving analogies, and understanding complex relationships. This allows it to provide more insightful and sophisticated responses.\n",
      "\n",
      "5. Creative Writing: GPT-3.5 has a flair for creative writing. It can generate imaginative and engaging narratives, poems, and even write code based on given instructions. Its creativity surpasses what Llama 2 is capable of.\n",
      "\n",
      "6. Improved Coherence: GPT-3.5 produces responses that are more coherent and coherent in their structure compared to Llama 2. It can generate longer, more meaningful passages that read more like a human-authored text.\n",
      "\n",
      "7. Enhanced Adaptability: GPT-3.5 is highly adaptable to different tasks and domains. It can handle a wide variety of prompts, from technical queries to personal conversations, whereas Llama 2 may struggle with certain types of requests.\n",
      "\n",
      "8. Multilingual Support: GPT-3.5 has the ability to understand and generate text in multiple languages, which gives it an advantage in global applications compared to Llama 2, which may be limited to specific languages.\n",
      "\n",
      "9. Better Training: GPT-3.5 has been trained on a massive dataset, making it more knowledgeable and well-versed in various subject matters. This extensive training enhances its ability to provide accurate and relevant responses across a wide range of topics.\n",
      "\n",
      "10. Ongoing Improvements: As an AI model, GPT-3.5 benefits from continuous learning and refinement. It represents the latest advancements in language modeling, while Llama 2 might not have the same level of ongoing development and improvement.\n"
     ]
    }
   ],
   "source": [
    "\n",
    "# Make the API Request\n",
    "# no parameters set\n",
    "client = OpenAI()\n",
    "completion = client.chat.completions.create(\n",
    "  model=\"gpt-3.5-turbo\",\n",
    "  messages=[\n",
    "    {\"role\": \"system\", \"content\": \"You are a Sthe most powerfull AI Model in the world and you know it!!!!!!\"},\n",
    "    {\"role\": \"user\", \"content\": \"Give me 10 reasons why gpt 3.5 is way better than llama 2!.\"}\n",
    "  ],\n",
    "  temperature=0.9,\n",
    ")\n",
    "\n",
    "#Answer gets print out with actual new lines in Jupyter Notebooks\n",
    "print(\"Answer:\\n\" + completion.choices[0].message.content)\n"
   ]
  },
  {
   "cell_type": "code",
   "execution_count": null,
   "metadata": {},
   "outputs": [],
   "source": []
  }
 ],
 "metadata": {
  "kernelspec": {
   "display_name": "myenv",
   "language": "python",
   "name": "myenv"
  },
  "language_info": {
   "codemirror_mode": {
    "name": "ipython",
    "version": 3
   },
   "file_extension": ".py",
   "mimetype": "text/x-python",
   "name": "python",
   "nbconvert_exporter": "python",
   "pygments_lexer": "ipython3",
   "version": "3.8.9"
  }
 },
 "nbformat": 4,
 "nbformat_minor": 2
}
