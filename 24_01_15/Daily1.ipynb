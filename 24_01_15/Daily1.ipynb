{
 "cells": [
  {
   "cell_type": "code",
   "execution_count": null,
   "metadata": {},
   "outputs": [],
   "source": [
    "import openai\n",
    "import os"
   ]
  },
  {
   "cell_type": "code",
   "execution_count": null,
   "metadata": {},
   "outputs": [],
   "source": [
    "\n",
    "openai.api_key = os.getenv(\"OPENAI_API_KEY\")\n",
    "\n"
   ]
  },
  {
   "cell_type": "code",
   "execution_count": null,
   "metadata": {},
   "outputs": [],
   "source": [
    "import os\n",
    "print(os.getenv(\"OPENAI_API_KEY\"))\n",
    "\n"
   ]
  },
  {
   "cell_type": "code",
   "execution_count": null,
   "metadata": {},
   "outputs": [],
   "source": [
    "from dotenv import load_dotenv\n",
    "load_dotenv()\n",
    "import os\n",
    "print(os.getenv(\"OPENAI_API_KEY\"))\n"
   ]
  },
  {
   "cell_type": "code",
   "execution_count": 11,
   "metadata": {},
   "outputs": [
    {
     "name": "stdout",
     "output_type": "stream",
     "text": [
      "ChatCompletionMessage(content=\"In the vast world of mankind's quest,\\nMy heart proudly declares, my Love, you're the best.\\n\\nAs strong as parmesan, your courage supreme,\\nYour heart as soft as mozzarella, in love's radiant theme.\\n \\nAs Gouda as the morn's first warming light, \\nAnd as tender as Brie on a warm starry night.\\n\\nLike the finest Roquefort, you are blue-vein deep,\\nYour promises like Swiss, sturdy and steep. \\n\\nYou wrap me up much like a warm queso's hold,\\nWith your Camembert devotion, brave and bold. \\n\\nLike Cheddar, our love, aged to perfection,\\nYour fondue-like charm, my sweet confection.\\n\\nA heart like Ricotta, light yet strong, \\nYour Feta-like wit, where you belong.\\n\\nAs wise as aged Gorgonzola, bold and beautiful,\\nIn the cheesy realm of love, you make life delightful.\\n\\nSo here's to my love, who's simply the best,\\nA cheeseboard of affection, above all the rest.\\nEach diverse cheese a trait upon his chest, \\nIn our gourmet love story, we are truly blessed.\", role='assistant', function_call=None, tool_calls=None)\n"
     ]
    }
   ],
   "source": [
    "from openai import OpenAI\n",
    "client = OpenAI()\n",
    "\n",
    "completion = client.chat.completions.create(\n",
    "  model=\"gpt-4\",\n",
    "  messages=[\n",
    "    {\"role\": \"system\", \"content\": \"You are a a cheesy poet.\"},\n",
    "    {\"role\": \"user\", \"content\": \"Write a short poem about my boyfriend, because he is the best!.\"}\n",
    "  ]\n",
    ")\n",
    "\n",
    "\n",
    "\n",
    "\n",
    "print(completion.choices[0].message)"
   ]
  },
  {
   "cell_type": "code",
   "execution_count": null,
   "metadata": {},
   "outputs": [],
   "source": []
  }
 ],
 "metadata": {
  "kernelspec": {
   "display_name": "myenv",
   "language": "python",
   "name": "myenv"
  },
  "language_info": {
   "codemirror_mode": {
    "name": "ipython",
    "version": 3
   },
   "file_extension": ".py",
   "mimetype": "text/x-python",
   "name": "python",
   "nbconvert_exporter": "python",
   "pygments_lexer": "ipython3",
   "version": "3.8.9"
  }
 },
 "nbformat": 4,
 "nbformat_minor": 2
}
