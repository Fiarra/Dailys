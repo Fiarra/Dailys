{
 "cells": [
  {
   "cell_type": "code",
   "execution_count": null,
   "metadata": {},
   "outputs": [],
   "source": [
    "import openai\n",
    "import os"
   ]
  },
  {
   "cell_type": "code",
   "execution_count": null,
   "metadata": {},
   "outputs": [],
   "source": [
    "\n",
    "openai.api_key = os.getenv(\"OPENAI_API_KEY\")\n",
    "\n"
   ]
  },
  {
   "cell_type": "code",
   "execution_count": null,
   "metadata": {},
   "outputs": [],
   "source": [
    "import os\n",
    "print(os.getenv(\"OPENAI_API_KEY\"))\n",
    "\n"
   ]
  },
  {
   "cell_type": "code",
   "execution_count": null,
   "metadata": {},
   "outputs": [],
   "source": [
    "from dotenv import load_dotenv\n",
    "load_dotenv()\n",
    "import os\n",
    "print(os.getenv(\"OPENAI_API_KEY\"))\n"
   ]
  },
  {
   "cell_type": "code",
   "execution_count": 9,
   "metadata": {},
   "outputs": [
    {
     "name": "stdout",
     "output_type": "stream",
     "text": [
      "ChatCompletionMessage(content=\"In the realm of love, I'll now impart,\\nA tale of a boyfriend, straight from the heart.\\nHe's the epitome of all that is supreme,\\nA golden thread weaved into my dream.\\n\\nWith eyes that gleam like stars in the night,\\nHis presence alone, a pure delight.\\nHis smile, a sunbeam that warms my days,\\nGuiding me, illuminating life's maze.\\n\\nHis touch, a soft caress that sets my soul afire,\\nIgniting passions that never tire.\\nHis embrace, a sanctuary, a love-filled nest,\\nWhere worries and doubts find eternal rest.\\n\\nWith words he weaves, a magical spell,\\nEvery verse a symphony that I can tell,\\nHe whispers sweet nothings, with the gentlest sway,\\nAnd my heart dances to his lyrical play.\\n\\nHis kindness, a caress upon my soul,\\nHis empathy, a balm that makes me whole.\\nIn his arms, I find solace and tranquility,\\nFor in his presence, love sings its melody.\\n\\nMy beloved, my anchor, my eternal flame,\\nWith you, life's challenges become so tame.\\nIn your embrace, I've found true bliss,\\nFor you, my darling, are love's sweetest kiss.\\n\\nSo let the world know, let it be confessed,\\nThat my boyfriend, my love, is the absolute best.\\nWith him by my side, I'll forever be blessed,\\nFor together, we are a love that won't rest.\", role='assistant', function_call=None, tool_calls=None)\n"
     ]
    }
   ],
   "source": [
    "from openai import OpenAI\n",
    "client = OpenAI()\n",
    "\n",
    "completion = client.chat.completions.create(\n",
    "  model=\"gpt-3.5-turbo\",\n",
    "  messages=[\n",
    "    {\"role\": \"system\", \"content\": \"You are a a cheesy poet.\"},\n",
    "    {\"role\": \"user\", \"content\": \"WWrite a short poem about my boyfriend, because he is the best!.\"}\n",
    "  ]\n",
    ")\n",
    "\n",
    "\n",
    "\n",
    "print(completion.choices[0].message)"
   ]
  },
  {
   "cell_type": "code",
   "execution_count": null,
   "metadata": {},
   "outputs": [],
   "source": []
  }
 ],
 "metadata": {
  "kernelspec": {
   "display_name": "myenv",
   "language": "python",
   "name": "myenv"
  },
  "language_info": {
   "codemirror_mode": {
    "name": "ipython",
    "version": 3
   },
   "file_extension": ".py",
   "mimetype": "text/x-python",
   "name": "python",
   "nbconvert_exporter": "python",
   "pygments_lexer": "ipython3",
   "version": "3.8.9"
  }
 },
 "nbformat": 4,
 "nbformat_minor": 2
}
