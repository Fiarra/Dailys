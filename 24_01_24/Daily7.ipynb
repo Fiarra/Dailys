{
 "cells": [
  {
   "cell_type": "code",
   "execution_count": 1,
   "metadata": {},
   "outputs": [],
   "source": [
    "import os\n",
    "from dotenv import load_dotenv\n",
    "import openai\n",
    "import csv\n",
    "import pandas as pd\n",
    "from openai import OpenAI\n"
   ]
  },
  {
   "cell_type": "code",
   "execution_count": 2,
   "metadata": {},
   "outputs": [],
   "source": [
    "# Load environment variables\n",
    "load_dotenv()\n",
    "openai_api_key = os.getenv(\"OPENAI_API_KEY\")\n",
    "if not openai_api_key:\n",
    "    raise ValueError(\"No OpenAI API key found. Check your .env file.\")"
   ]
  },
  {
   "cell_type": "code",
   "execution_count": 3,
   "metadata": {},
   "outputs": [],
   "source": [
    "# Set the API key for OpenAI\n",
    "openai.api_key = openai_api_key"
   ]
  },
  {
   "cell_type": "code",
   "execution_count": 5,
   "metadata": {},
   "outputs": [],
   "source": [
    "reviews = [\n",
    "    \"Absolutely epic! Building this set was like stepping back into my childhood dreams. The nostalgia and intricate design deserve a five-star rating!\",\n",
    "    \"The attention to detail is phenomenal, yet the assembly was a lengthy endeavor. Nonetheless, the final result is undoubtedly worth the time and effort.\",\n",
    "    \"Disappointed due to missing pieces in my set, which led to a frustrating building experience. Unfortunately, I can only give it 2 stars.\",\n",
    "    \"Incredible design that captivated both my kids and me. We had a blast piecing it together. I highly recommend it for family bonding time.\",\n",
    "    \"Its enormous size is overwhelming and consumes a lot of space. In hindsight, I regret the purchase due to its impracticality.\",\n",
    "    \"A true masterpiece that resonates with any Star Wars aficionado. The price is steep, but the authenticity and quality justify the cost.\",\n",
    "    \"The instructions were perplexing and at times, overwhelming. This set is challenging and requires patience and dedication.\",\n",
    "    \"I'm halfway through the build, and it already looks stunning. It's a challenging project, but incredibly rewarding and enjoyable.\",\n",
    "    \"This set is quite complex and not really suitable for children. It leans more towards adult Lego enthusiasts due to its intricate details.\",\n",
    "    \"Absolutely love it! It's the perfect crowning jewel for my Star Wars collection and a testament to my fandom.\",\n",
    "    \"The build is decent, but it falls short of my expectations in terms of interactive features, especially considering the price point.\",\n",
    "    \"The set broke apart after just a week, which is disappointing and raises questions about the quality, given the high price.\",\n",
    "    \"Building this set felt like a journey through the galaxy, mirroring the epic scope of the Star Wars movies. A truly epic experience.\",\n",
    "    \"I found it to be overrated. At the end of the day, it's a collection of bricks that doesn't live up to the hype.\",\n",
    "    \"Building this was magical! It feels like I've constructed my very own Death Star. A must-have for fans, and may the force be with all builders!\",\n",
    "    \"The instructions were clear and concise, and the pieces fit together seamlessly. It was a thoroughly rewarding building experience.\",\n",
    "    \"I was expecting a greater variety of minifigures and felt a bit let down. It's a good set, but it could have been better in this regard.\",\n",
    "    \"Took me longer to build than I anticipated, but now it's a stunning centerpiece in my room. It's a remarkable display piece.\",\n",
    "    \"It's an okay set, but in my opinion, there are better Lego sets available that offer more value and engagement.\",\n",
    "    \"Absolutely stunning once assembled. However, builders should be prepared for a lengthy and demanding construction journey.\"\n",
    "]\n",
    "\n",
    "\n"
   ]
  },
  {
   "cell_type": "code",
   "execution_count": 9,
   "metadata": {},
   "outputs": [],
   "source": [
    "client = OpenAI()\n",
    "def get_completion_from_messages(messages, model=\"gpt-3.5-turbo\", temperature=0, max_tokens=100):\n",
    "    response = client.chat.completions.create(\n",
    "        model=model,\n",
    "        messages=messages,\n",
    "        temperature=temperature, \n",
    "        max_tokens=max_tokens,\n",
    "    )\n",
    "\n",
    "    return response.choices[0].message.content\n"
   ]
  },
  {
   "cell_type": "code",
   "execution_count": 25,
   "metadata": {},
   "outputs": [
    {
     "name": "stdout",
     "output_type": "stream",
     "text": [
      "{'review': 'Absolutely epic! Building this set was like stepping back into my childhood dreams. The nostalgia and intricate design deserve a five-star rating!', 'Nostalgia': 'Building this set was like stepping back into my childhood dreams', 'Design': 'The nostalgia and intricate design deserve a five-star rating'}\n"
     ]
    }
   ],
   "source": [
    "# segment in aspects but also store the aspects as a string in a dictionary\n",
    "delimiter = \"####\"\n",
    "system_message_aspect = f\"\"\"\n",
    "You will be provided with customer reviews of a Lego set. \\\n",
    "The review will be delimited with {delimiter} characters. \\\n",
    "Your task is to segment each review into aspects. \\\n",
    "Output a python dictionary, which has the following format \\\n",
    "review = [review: \"...\", \"aspect1\" : \"...\", \"aspect2\" : \"...\" \\\n",
    "add as many aspects as you need for each review \\\n",
    "also add the review itself as a string \\\n",
    "Each aspect should contain a new dimension, functionality, or feature of the Lego set. \\\n",
    "Store the aspects as a string. \\\n",
    "For example, if the review is 'The set is expensive, but it looks great.', \\\n",
    "then the aspects are \"price\": \"The set is expensive\" and \"appearance\" : \"but it looks great\". \\\n",
    "If possible, use one of the following categories for the aspects: \\\n",
    "Build Quality\n",
    "Complexity\n",
    "Design\n",
    "Educational Value\n",
    "Entertainment Value\n",
    "Instruction Clarity\n",
    "Interactivity\n",
    "Nostalgia\n",
    "Price\n",
    "Size\n",
    "Age Suitability\n",
    "Minifigures\n",
    "Part Availability\n",
    "Durability\n",
    "Collectibility\n",
    "Packaging\n",
    "Assembly Time\n",
    "Replay Value\n",
    "\n",
    "If none of the above categories are suitable, you can use your own categories. \\\n",
    "If you are unable to segment the review into aspects, output an empty string. \\\n",
    "Only ouput the dictionary, with nothing else. \\\n",
    "\"\"\"\n",
    "\n",
    "review_1 = \"Absolutely epic! Building this set was like stepping back into my childhood dreams. The nostalgia and intricate design deserve a five-star rating!\"\n",
    "messages = [\n",
    "        {'role': 'system', 'content': system_message_aspect},\n",
    "        {'role': 'user', 'content': f\"{delimiter}{review_1}{delimiter}\"}\n",
    "]\n",
    "\n",
    "aspects_review1 = get_completion_from_messages(messages)\n",
    "print(aspects_review1)"
   ]
  },
  {
   "cell_type": "code",
   "execution_count": 21,
   "metadata": {},
   "outputs": [],
   "source": [
    "# convert the dictionary to a string\n",
    "import json \n",
    "\n",
    "aspects_review1_string = json.dumps(aspects_review1)"
   ]
  },
  {
   "cell_type": "code",
   "execution_count": 26,
   "metadata": {},
   "outputs": [
    {
     "name": "stdout",
     "output_type": "stream",
     "text": [
      "{\"review\": \"Absolutely epic! Building this set was like stepping back into my childhood dreams. The nostalgia and intricate design deserve a five-star rating!\", \"Nostalgia\": \"Positive\", \"Design\": \"Positive\"}\n"
     ]
    }
   ],
   "source": [
    "# analyze the sentiment of each aspect\n",
    "system_message_sentiment = f\"\"\"\n",
    "You will be provided with a python dictionary of customer reviews of a Lego set. \\\n",
    "Each dictionary contains the whole review as well as their different aspects. \\\n",
    "The review will be delimited with {delimiter} characters. \\\n",
    "Your task is to analyze the sentiment of each aspect of the review individually. \\\n",
    "Output a python dictionary, which has the following format \\\n",
    "review = [review: \"...\", \"aspect1\" : \"...\", \"aspect2\" : \"...\" \\\n",
    "add as many aspects as you need for each review \\\n",
    "also add the review itself as a string \\\n",
    "The sentiment has to be one of the following: \\\n",
    "Positive\n",
    "Neutral\n",
    "Negative\n",
    "If you are unable to analyze the sentiment of the aspect, output an empty string. \\\n",
    "Only ouput the dictionary, with nothing else. \\\n",
    "\"\"\"\n",
    "\n",
    "messages =  [  \n",
    "{'role':'system', 'content': system_message_sentiment},   \n",
    "{'role': 'user', 'content': f\"{delimiter}{aspects_review1_string}{delimiter}\"}\n",
    "] \n",
    "\n",
    "final_response = get_completion_from_messages(messages)\n",
    "print(final_response)\n"
   ]
  },
  {
   "cell_type": "code",
   "execution_count": 27,
   "metadata": {},
   "outputs": [],
   "source": [
    "#loop through all reviews\n",
    "final_outputs = []\n",
    "\n",
    "for review in reviews:\n",
    "    messages_aspect = [\n",
    "        {'role': 'system', 'content': system_message_aspect},\n",
    "        {'role': 'user', 'content': f\"{delimiter}{review}{delimiter}\"}\n",
    "    ]\n",
    "    aspects = get_completion_from_messages(messages_aspect)\n"
   ]
  },
  {
   "cell_type": "code",
   "execution_count": 28,
   "metadata": {},
   "outputs": [],
   "source": [
    "# Convert aspects to a string\n",
    "aspects_string = json.dumps(aspects)"
   ]
  },
  {
   "cell_type": "code",
   "execution_count": 30,
   "metadata": {},
   "outputs": [],
   "source": [
    "# Step 3: Analyze sentiment for each set of aspects\n",
    "messages_sentiment = [\n",
    "    {'role': 'system', 'content': system_message_sentiment},\n",
    "    {'role': 'user', 'content': f\"{delimiter}{aspects_string}{delimiter}\"}\n",
    "]\n",
    "sentiment_analysis = get_completion_from_messages(messages_sentiment)\n",
    "\n",
    "# Store the final response\n",
    "final_outputs.append(sentiment_analysis)"
   ]
  },
  {
   "cell_type": "code",
   "execution_count": 32,
   "metadata": {},
   "outputs": [
    {
     "name": "stdout",
     "output_type": "stream",
     "text": [
      "[\"{'review': 'Absolutely stunning once assembled. However, builders should be prepared for a lengthy and demanding construction journey.', 'Complexity': 'Neutral', 'Design': 'Positive'}\"]\n"
     ]
    }
   ],
   "source": [
    "print(final_outputs)\n"
   ]
  },
  {
   "cell_type": "code",
   "execution_count": null,
   "metadata": {},
   "outputs": [],
   "source": []
  }
 ],
 "metadata": {
  "kernelspec": {
   "display_name": "myenv",
   "language": "python",
   "name": "myenv"
  },
  "language_info": {
   "codemirror_mode": {
    "name": "ipython",
    "version": 3
   },
   "file_extension": ".py",
   "mimetype": "text/x-python",
   "name": "python",
   "nbconvert_exporter": "python",
   "pygments_lexer": "ipython3",
   "version": "3.8.9"
  }
 },
 "nbformat": 4,
 "nbformat_minor": 2
}
