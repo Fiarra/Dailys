{
 "cells": [
  {
   "cell_type": "code",
   "execution_count": 1,
   "metadata": {},
   "outputs": [
    {
     "name": "stdout",
     "output_type": "stream",
     "text": [
      "Collecting PyMuPDF\n",
      "  Downloading PyMuPDF-1.23.23-cp38-none-macosx_11_0_arm64.whl.metadata (3.4 kB)\n",
      "Collecting PyMuPDFb==1.23.22 (from PyMuPDF)\n",
      "  Downloading PyMuPDFb-1.23.22-py3-none-macosx_11_0_arm64.whl.metadata (1.4 kB)\n",
      "Downloading PyMuPDF-1.23.23-cp38-none-macosx_11_0_arm64.whl (3.7 MB)\n",
      "\u001b[2K   \u001b[90m━━━━━━━━━━━━━━━━━━━━━━━━━━━━━━━━━━━━━━━━\u001b[0m \u001b[32m3.7/3.7 MB\u001b[0m \u001b[31m12.0 MB/s\u001b[0m eta \u001b[36m0:00:00\u001b[0m00:01\u001b[0m00:01\u001b[0m\n",
      "\u001b[?25hDownloading PyMuPDFb-1.23.22-py3-none-macosx_11_0_arm64.whl (29.4 MB)\n",
      "\u001b[2K   \u001b[90m━━━━━━━━━━━━━━━━━━━━━━━━━━━━━━━━━━━━━━━━\u001b[0m \u001b[32m29.4/29.4 MB\u001b[0m \u001b[31m51.5 MB/s\u001b[0m eta \u001b[36m0:00:00\u001b[0m00:01\u001b[0m00:01\u001b[0m\n",
      "\u001b[?25hInstalling collected packages: PyMuPDFb, PyMuPDF\n",
      "Successfully installed PyMuPDF-1.23.23 PyMuPDFb-1.23.22\n",
      "Note: you may need to restart the kernel to use updated packages.\n"
     ]
    }
   ],
   "source": [
    "pip install PyMuPDF\n"
   ]
  },
  {
   "cell_type": "code",
   "execution_count": 2,
   "metadata": {},
   "outputs": [],
   "source": [
    "import os\n",
    "from dotenv import load_dotenv\n",
    "import openai\n",
    "import csv\n",
    "import pandas as pd\n",
    "from openai import OpenAI\n",
    "import matplotlib.pyplot as plt\n",
    "import fitz"
   ]
  },
  {
   "cell_type": "code",
   "execution_count": 3,
   "metadata": {},
   "outputs": [],
   "source": [
    "load_dotenv()\n",
    "openai_api_key = os.getenv(\"OPENAI_API_KEY\")\n",
    "if not openai_api_key:\n",
    "    raise ValueError(\"No OpenAI API key found. Check your .env file.\")\n",
    "openai.api_key = openai_api_key"
   ]
  },
  {
   "cell_type": "code",
   "execution_count": 4,
   "metadata": {},
   "outputs": [],
   "source": [
    "def read_pdf(pdf_path):\n",
    "    doc = fitz.open(pdf_path)\n",
    "    text = \"\"\n",
    "    for page in doc:\n",
    "        text += page.get_text()\n",
    "    return text"
   ]
  },
  {
   "cell_type": "code",
   "execution_count": 43,
   "metadata": {},
   "outputs": [],
   "source": [
    "client = OpenAI()\n",
    "global api_call_count \n",
    "api_call_count = 0\n",
    "\n",
    "def summarize_text(text):\n",
    "    global api_call_count\n",
    "\n",
    "    system_prompt = \"\"\"\n",
    "    Summarize the following scientific paper with each piece of information on a separate line and in the following order: \n",
    "    1. Authors: [List of authors]\n",
    "    2. Date of Publication: [Publication date]\n",
    "    3. Title: [Title of the paper]\n",
    "    4. Most Important Findings: [Key findings]\n",
    "    5. Methods: [Methods used]\n",
    "    \"\"\"\n",
    "\n",
    "\n",
    "    messages = [\n",
    "        {\"role\": \"system\", \"content\": system_prompt},\n",
    "        {\"role\": \"user\", \"content\": text}\n",
    "    ]\n",
    "\n",
    "    try:\n",
    "        response = client.chat.completions.create(\n",
    "            model=\"gpt-3.5-turbo\",\n",
    "            messages=messages,\n",
    "            temperature=0.5,\n",
    "            max_tokens=500,  \n",
    "        )\n",
    "\n",
    "        api_call_count += 1\n",
    "\n",
    "        response_text = response.choices[0].message.content.strip()\n",
    "        \n",
    "        #print(\"Summary before parsing:\", response_text)  # Uncomment for debugging\n",
    "\n",
    "        return response_text\n",
    "\n",
    "    except Exception as e:\n",
    "        print(f\"An error occurred: {e}\")\n",
    "        return \"\"\n",
    "\n"
   ]
  },
  {
   "cell_type": "code",
   "execution_count": 47,
   "metadata": {},
   "outputs": [],
   "source": [
    "def parse_structured_summary(summary):\n",
    "    summary_data = {\n",
    "        'Authors': '',\n",
    "        'Date of Publication': '',\n",
    "        'Title': '',\n",
    "        'Most Important Findings': '',\n",
    "        'Methods': ''\n",
    "    }\n",
    "    \n",
    "    lines = summary.strip().split('\\n')\n",
    "    current_section = None\n",
    "    \n",
    "    for line in lines:\n",
    "        if line.startswith(\"1. Authors:\"):\n",
    "            current_section = 'Authors'\n",
    "            summary_data[current_section] = line.replace(\"1. Authors:\", \"\").strip()\n",
    "        elif line.startswith(\"2. Date of Publication:\"):\n",
    "            current_section = 'Date of Publication'\n",
    "            summary_data[current_section] = line.replace(\"2. Date of Publication:\", \"\").strip()\n",
    "        elif line.startswith(\"3. Title:\"):\n",
    "            current_section = 'Title'\n",
    "            summary_data[current_section] = line.replace(\"3. Title:\", \"\").strip()\n",
    "        elif line.startswith(\"4. Most Important Findings:\"):\n",
    "            current_section = 'Most Important Findings'\n",
    "        elif line.startswith(\"5. Methods:\"):\n",
    "            current_section = 'Methods'\n",
    "        else:\n",
    "            # Accumulate the content for \"Most Important Findings\" and \"Methods\"\n",
    "            if current_section:\n",
    "                summary_data[current_section] += (line.strip() + \" \") if line.strip() else \"\"\n",
    "    \n",
    "    # Trim trailing whitespace\n",
    "    for key in summary_data:\n",
    "        summary_data[key] = summary_data[key].strip()\n",
    "    \n",
    "    return summary_data\n",
    "\n"
   ]
  },
  {
   "cell_type": "code",
   "execution_count": 37,
   "metadata": {},
   "outputs": [],
   "source": [
    "def create_summary_dataframe(pdf_paths):\n",
    "    \n",
    "    parsed_summaries = []\n",
    "    \n",
    "    for path in pdf_paths:\n",
    "\n",
    "        text = read_pdf(path)\n",
    "        \n",
    "        summary = summarize_text(text)\n",
    "        \n",
    "        parsed_summary = parse_structured_summary(summary)\n",
    "        \n",
    "        parsed_summaries.append(parsed_summary)\n",
    "    \n",
    "    df = pd.DataFrame(parsed_summaries)\n",
    "    \n",
    "    return df"
   ]
  },
  {
   "cell_type": "code",
   "execution_count": 40,
   "metadata": {},
   "outputs": [
    {
     "name": "stdout",
     "output_type": "stream",
     "text": [
      "Summary before parsing: 1. Authors: Paul F. Simmering, Paavo Huoviala\n",
      "2. Date of Publication: October 30, 2023\n",
      "3. Title: Large Language Models for Aspect-Based Sentiment Analysis\n",
      "4. Most Important Findings:\n",
      "   - GPT-3.5 achieved a state-of-the-art F1 score of 83.8 on the joint aspect term extraction and polarity classification task of the SemEval-2014 Task 4.\n",
      "   - Fine-tuned GPT-3.5 outperformed the previous state-of-the-art model, InstructABSA, even without in-context examples.\n",
      "   - Detailed prompts improved performance in zero-shot and few-shot settings but were not necessary for fine-tuned models.\n",
      "   - Fine-tuning the model was the most efficient option for achieving superior performance in aspect-based sentiment analysis.\n",
      "   - Errors made by the models were related to discrepancies between the model's predictions and the annotation rules of the benchmark dataset.\n",
      "5. Methods:\n",
      "   - Evaluation was done on the SemEval-2014 dataset for aspect-based sentiment analysis.\n",
      "   - Models tested included GPT-3.5, GPT-4, and fine-tuned versions of GPT-3.5.\n",
      "   - In-context examples were used to improve model performance.\n",
      "   - JSON schema was employed to standardize model outputs.\n",
      "   - Cost analysis was conducted to compare the efficiency of different models.\n",
      "  Authors Date of Publication Title  \\\n",
      "0                                     \n",
      "\n",
      "                             Most Important Findings  \\\n",
      "0  - GPT-3.5 achieved a state-of-the-art F1 score...   \n",
      "\n",
      "                                             Methods  \n",
      "0  - Evaluation was done on the SemEval-2014 data...  \n"
     ]
    }
   ],
   "source": [
    "#single PDF test\n",
    "#pdf_paths = ['/Users/Zantana/repo/Dailys/24_02_19/test_paper1.pdf']\n",
    "#df = create_summary_dataframe(pdf_paths)\n",
    "#print(df)"
   ]
  },
  {
   "cell_type": "code",
   "execution_count": 41,
   "metadata": {},
   "outputs": [
    {
     "data": {
      "text/html": [
       "<div>\n",
       "<style scoped>\n",
       "    .dataframe tbody tr th:only-of-type {\n",
       "        vertical-align: middle;\n",
       "    }\n",
       "\n",
       "    .dataframe tbody tr th {\n",
       "        vertical-align: top;\n",
       "    }\n",
       "\n",
       "    .dataframe thead th {\n",
       "        text-align: right;\n",
       "    }\n",
       "</style>\n",
       "<table border=\"1\" class=\"dataframe\">\n",
       "  <thead>\n",
       "    <tr style=\"text-align: right;\">\n",
       "      <th></th>\n",
       "      <th>Authors</th>\n",
       "      <th>Date of Publication</th>\n",
       "      <th>Title</th>\n",
       "      <th>Most Important Findings</th>\n",
       "      <th>Methods</th>\n",
       "    </tr>\n",
       "  </thead>\n",
       "  <tbody>\n",
       "    <tr>\n",
       "      <th>0</th>\n",
       "      <td></td>\n",
       "      <td></td>\n",
       "      <td></td>\n",
       "      <td>- GPT-3.5 achieved a state-of-the-art F1 score...</td>\n",
       "      <td>- Evaluation was done on the SemEval-2014 data...</td>\n",
       "    </tr>\n",
       "  </tbody>\n",
       "</table>\n",
       "</div>"
      ],
      "text/plain": [
       "  Authors Date of Publication Title  \\\n",
       "0                                     \n",
       "\n",
       "                             Most Important Findings  \\\n",
       "0  - GPT-3.5 achieved a state-of-the-art F1 score...   \n",
       "\n",
       "                                             Methods  \n",
       "0  - Evaluation was done on the SemEval-2014 data...  "
      ]
     },
     "execution_count": 41,
     "metadata": {},
     "output_type": "execute_result"
    }
   ],
   "source": [
    "#df.head()"
   ]
  },
  {
   "cell_type": "code",
   "execution_count": 42,
   "metadata": {},
   "outputs": [],
   "source": [
    "#df.to_csv('summary.csv', index=False)"
   ]
  },
  {
   "cell_type": "code",
   "execution_count": 44,
   "metadata": {},
   "outputs": [],
   "source": [
    "def create_summary_dataframe_from_folder(folder_path):\n",
    "   \n",
    "    parsed_summaries = []\n",
    "    \n",
    "    files = os.listdir(folder_path)\n",
    "    \n",
    "    pdf_files = [file for file in files if file.endswith('.pdf')]\n",
    "    \n",
    "    for pdf_file in pdf_files:\n",
    "        \n",
    "        pdf_path = os.path.join(folder_path, pdf_file)\n",
    "        \n",
    "        text = read_pdf(pdf_path)\n",
    "    \n",
    "        summary = summarize_text(text)\n",
    "    \n",
    "        parsed_summary = parse_structured_summary(summary)\n",
    "    \n",
    "        parsed_summaries.append(parsed_summary)\n",
    "    \n",
    "    df = pd.DataFrame(parsed_summaries)\n",
    "    \n",
    "    return df"
   ]
  },
  {
   "cell_type": "code",
   "execution_count": 48,
   "metadata": {},
   "outputs": [
    {
     "name": "stdout",
     "output_type": "stream",
     "text": [
      "                                             Authors Date of Publication  \\\n",
      "0                  Paul F. Simmering, Paavo Huoviala    October 30, 2023   \n",
      "1  Ashish Vaswani, Noam Shazeer, Niki Parmar, Jak...     2nd August 2023   \n",
      "\n",
      "                                               Title  \\\n",
      "0  Large Language Models for Aspect-Based Sentime...   \n",
      "1                          Attention Is All You Need   \n",
      "\n",
      "                             Most Important Findings  \\\n",
      "0  - GPT-3.5 achieved a state-of-the-art F1 score...   \n",
      "1  - Proposed the Transformer model based solely ...   \n",
      "\n",
      "                                             Methods  \n",
      "0  - Evaluation was done on the SemEval-2014 data...  \n",
      "1  - Introduced the Transformer architecture base...  \n"
     ]
    }
   ],
   "source": [
    "folder_path = '/Users/Zantana/repo/Dailys/24_02_19/test_paper'\n",
    "df = create_summary_dataframe_from_folder(folder_path)\n",
    "print(df)\n"
   ]
  },
  {
   "cell_type": "code",
   "execution_count": 49,
   "metadata": {},
   "outputs": [],
   "source": [
    "df.to_csv('summary.csv', index=False)"
   ]
  },
  {
   "cell_type": "code",
   "execution_count": null,
   "metadata": {},
   "outputs": [],
   "source": []
  }
 ],
 "metadata": {
  "kernelspec": {
   "display_name": "myenv",
   "language": "python",
   "name": "myenv"
  },
  "language_info": {
   "codemirror_mode": {
    "name": "ipython",
    "version": 3
   },
   "file_extension": ".py",
   "mimetype": "text/x-python",
   "name": "python",
   "nbconvert_exporter": "python",
   "pygments_lexer": "ipython3",
   "version": "3.8.9"
  }
 },
 "nbformat": 4,
 "nbformat_minor": 2
}
