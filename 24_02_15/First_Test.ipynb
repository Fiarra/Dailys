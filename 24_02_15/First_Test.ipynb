{
 "cells": [
  {
   "cell_type": "code",
   "execution_count": 16,
   "metadata": {},
   "outputs": [],
   "source": [
    "import os\n",
    "from dotenv import load_dotenv\n",
    "import openai\n",
    "import csv\n",
    "import pandas as pd\n",
    "from openai import OpenAI\n",
    "import matplotlib.pyplot as plt"
   ]
  },
  {
   "cell_type": "code",
   "execution_count": 2,
   "metadata": {},
   "outputs": [],
   "source": [
    "df = pd.read_csv(\"IMDB Dataset.csv\")"
   ]
  },
  {
   "cell_type": "code",
   "execution_count": 3,
   "metadata": {},
   "outputs": [],
   "source": [
    "load_dotenv()\n",
    "openai_api_key = os.getenv(\"OPENAI_API_KEY\")\n",
    "if not openai_api_key:\n",
    "    raise ValueError(\"No OpenAI API key found. Check your .env file.\")\n",
    "openai.api_key = openai_api_key"
   ]
  },
  {
   "cell_type": "code",
   "execution_count": 4,
   "metadata": {},
   "outputs": [],
   "source": [
    "df_small = df.iloc[99:120]"
   ]
  },
  {
   "cell_type": "code",
   "execution_count": 13,
   "metadata": {},
   "outputs": [],
   "source": [
    "prompts = [\n",
    "    \"\"\"You are trained to analyze and detect the sentiment of given text. \n",
    "    If you're unsure of an answer, you can say \"not sure\" and recommend users to review manually.\"\"\",\n",
    "    \"\"\"Your task is to evaluate text for sentiment. Please classify the sentiment as either positive or negative accurately. \n",
    "    If a clear determination cannot be made, indicate uncertainty.\"\"\",\n",
    "    \"\"\"As a sentiment analysis expert, your role is to determine the emotional tone of a text snippet. \n",
    "    Label the text as 'positive' or 'negative'. If the sentiment is ambiguous, suggest a manual review.\"\"\",\n",
    "    \"\"\"You have the ability to understand and interpret the sentiment of written reviews. \n",
    "    Please categorize each review as positive or negative. If the sentiment is not clear, state that you are unsure.\"\"\",\n",
    "    \"\"\"Imagine you're a detective deciphering the mood of a piece of text. Your job is to classify it as positive or negative. \n",
    "    If the evidence is inconclusive, admit uncertainty.\"\"\",\n",
    "    \"\"\"You are an AI trained to recognize emotional undertones in text. Assign a 'positive' or 'negative' label to each review. \n",
    "    In cases of doubt, opt for 'not sure'.\"\"\",\n",
    "    \"\"\"Your objective is to analyze text and identify its sentiment. Please determine whether each text is positive or negative. \n",
    "    If the sentiment is not evident, indicate so.\"\"\",\n",
    "    \"\"\"As a connoisseur of language and emotion, you are tasked with classifying reviews based on sentiment. \n",
    "    Should you find a review's sentiment unclear, please flag it for manual inspection.\"\"\",\n",
    "    \"\"\"You possess the skill to analyze textual sentiment. Your goal is to label the sentiment as either positive or negative. \n",
    "    Should you encounter ambiguity, please note 'not sure'.\"\"\",\n",
    "    \"\"\"Act as a sentiment analyst, deciphering the emotional content of texts. Classify them as positively or negatively charged. \n",
    "    In instances where the sentiment is mixed or unclear, recommend a manual assessment.\"\"\"\n",
    "]\n"
   ]
  },
  {
   "cell_type": "code",
   "execution_count": 12,
   "metadata": {},
   "outputs": [],
   "source": [
    "client = OpenAI()\n",
    "api_call_count = 0\n",
    "\n",
    "def analyze_sentiment(text, system_prompt):\n",
    "    global api_call_count \n",
    "\n",
    "    try:\n",
    "        messages = [\n",
    "            {\"role\": \"system\", \"content\": system_prompt},\n",
    "            {\"role\": \"user\", \"content\": f\"\"\"Analyze the following product review and determine if the sentiment is: positive or negative. \n",
    "                                            Return answer in single word as either positive or negative: {text}\"\"\"}\n",
    "        ]\n",
    "\n",
    "        response = client.chat.completions.create(\n",
    "            model=\"gpt-3.5-turbo\",\n",
    "            messages=messages, \n",
    "            max_tokens=1, \n",
    "            n=1, \n",
    "            stop=None, \n",
    "            temperature=0)\n",
    "\n",
    "        api_call_count += 1\n",
    "\n",
    "        response_text = response.choices[0].message.content.strip().lower()\n",
    "\n",
    "        return response_text\n",
    "\n",
    "    except Exception as e:\n",
    "        print(f\"Error analyzing sentiment: {e}\")\n",
    "        return \"error, try again dummy\"\n",
    "    \n",
    "    print(f\"Total API calls made: {api_call_count}\")"
   ]
  },
  {
   "cell_type": "code",
   "execution_count": null,
   "metadata": {},
   "outputs": [],
   "source": [
    "for i, prompt in enumerate(prompts, start=1):\n",
    "    column_name = f\"prompt{i}\"  \n",
    "    df_small[column_name] = df_small[\"review\"].apply(lambda x: analyze_sentiment(x, prompt))"
   ]
  },
  {
   "cell_type": "code",
   "execution_count": 15,
   "metadata": {},
   "outputs": [
    {
     "data": {
      "text/html": [
       "<div>\n",
       "<style scoped>\n",
       "    .dataframe tbody tr th:only-of-type {\n",
       "        vertical-align: middle;\n",
       "    }\n",
       "\n",
       "    .dataframe tbody tr th {\n",
       "        vertical-align: top;\n",
       "    }\n",
       "\n",
       "    .dataframe thead th {\n",
       "        text-align: right;\n",
       "    }\n",
       "</style>\n",
       "<table border=\"1\" class=\"dataframe\">\n",
       "  <thead>\n",
       "    <tr style=\"text-align: right;\">\n",
       "      <th></th>\n",
       "      <th>review</th>\n",
       "      <th>sentiment</th>\n",
       "      <th>prompt1</th>\n",
       "      <th>prompt2</th>\n",
       "      <th>prompt3</th>\n",
       "      <th>prompt4</th>\n",
       "      <th>prompt5</th>\n",
       "      <th>prompt6</th>\n",
       "      <th>prompt7</th>\n",
       "      <th>prompt8</th>\n",
       "      <th>prompt9</th>\n",
       "      <th>prompt10</th>\n",
       "    </tr>\n",
       "  </thead>\n",
       "  <tbody>\n",
       "    <tr>\n",
       "      <th>99</th>\n",
       "      <td>I have been a Mario fan for as long as I can r...</td>\n",
       "      <td>positive</td>\n",
       "      <td>positive</td>\n",
       "      <td>positive</td>\n",
       "      <td>positive</td>\n",
       "      <td>positive</td>\n",
       "      <td>positive</td>\n",
       "      <td>positive</td>\n",
       "      <td>positive</td>\n",
       "      <td>positive</td>\n",
       "      <td>positive</td>\n",
       "      <td>positive</td>\n",
       "    </tr>\n",
       "    <tr>\n",
       "      <th>100</th>\n",
       "      <td>This short film that inspired the soon-to-be f...</td>\n",
       "      <td>positive</td>\n",
       "      <td>positive</td>\n",
       "      <td>positive</td>\n",
       "      <td>positive</td>\n",
       "      <td>positive</td>\n",
       "      <td>positive</td>\n",
       "      <td>positive</td>\n",
       "      <td>positive</td>\n",
       "      <td>positive</td>\n",
       "      <td>positive</td>\n",
       "      <td>positive</td>\n",
       "    </tr>\n",
       "    <tr>\n",
       "      <th>101</th>\n",
       "      <td>Okay, last night, August 18th, 2004, I had the...</td>\n",
       "      <td>negative</td>\n",
       "      <td>negative</td>\n",
       "      <td>negative</td>\n",
       "      <td>negative</td>\n",
       "      <td>negative</td>\n",
       "      <td>negative</td>\n",
       "      <td>negative</td>\n",
       "      <td>negative</td>\n",
       "      <td>negative</td>\n",
       "      <td>negative</td>\n",
       "      <td>negative</td>\n",
       "    </tr>\n",
       "    <tr>\n",
       "      <th>102</th>\n",
       "      <td>I bought this game on an impulse buy from walm...</td>\n",
       "      <td>positive</td>\n",
       "      <td>positive</td>\n",
       "      <td>positive</td>\n",
       "      <td>positive</td>\n",
       "      <td>positive</td>\n",
       "      <td>positive</td>\n",
       "      <td>positive</td>\n",
       "      <td>positive</td>\n",
       "      <td>positive</td>\n",
       "      <td>positive</td>\n",
       "      <td>positive</td>\n",
       "    </tr>\n",
       "    <tr>\n",
       "      <th>103</th>\n",
       "      <td>No, this hilariously horrible 70's made-for-TV...</td>\n",
       "      <td>positive</td>\n",
       "      <td>positive</td>\n",
       "      <td>positive</td>\n",
       "      <td>negative</td>\n",
       "      <td>positive</td>\n",
       "      <td>negative</td>\n",
       "      <td>negative</td>\n",
       "      <td>negative</td>\n",
       "      <td>positive</td>\n",
       "      <td>positive</td>\n",
       "      <td>positive</td>\n",
       "    </tr>\n",
       "  </tbody>\n",
       "</table>\n",
       "</div>"
      ],
      "text/plain": [
       "                                                review sentiment   prompt1  \\\n",
       "99   I have been a Mario fan for as long as I can r...  positive  positive   \n",
       "100  This short film that inspired the soon-to-be f...  positive  positive   \n",
       "101  Okay, last night, August 18th, 2004, I had the...  negative  negative   \n",
       "102  I bought this game on an impulse buy from walm...  positive  positive   \n",
       "103  No, this hilariously horrible 70's made-for-TV...  positive  positive   \n",
       "\n",
       "      prompt2   prompt3   prompt4   prompt5   prompt6   prompt7   prompt8  \\\n",
       "99   positive  positive  positive  positive  positive  positive  positive   \n",
       "100  positive  positive  positive  positive  positive  positive  positive   \n",
       "101  negative  negative  negative  negative  negative  negative  negative   \n",
       "102  positive  positive  positive  positive  positive  positive  positive   \n",
       "103  positive  negative  positive  negative  negative  negative  positive   \n",
       "\n",
       "      prompt9  prompt10  \n",
       "99   positive  positive  \n",
       "100  positive  positive  \n",
       "101  negative  negative  \n",
       "102  positive  positive  \n",
       "103  positive  positive  "
      ]
     },
     "execution_count": 15,
     "metadata": {},
     "output_type": "execute_result"
    }
   ],
   "source": [
    "df_small.head()"
   ]
  },
  {
   "cell_type": "code",
   "execution_count": 17,
   "metadata": {},
   "outputs": [
    {
     "name": "stdout",
     "output_type": "stream",
     "text": [
      "Total API calls made: 210\n"
     ]
    }
   ],
   "source": [
    " print(f\"Total API calls made: {api_call_count}\")"
   ]
  },
  {
   "cell_type": "code",
   "execution_count": 18,
   "metadata": {},
   "outputs": [],
   "source": [
    "sentiment_counts = pd.DataFrame()\n",
    "\n",
    "for i in range(1, 11): \n",
    "    column_name = f\"prompt{i}\"\n",
    "    sentiment_counts[column_name] = df_small[column_name].value_counts()\n",
    "\n",
    "#Transposing for easier visualization\n",
    "sentiment_counts = sentiment_counts.T\n",
    "\n",
    "sentiment_counts['actual_positive'] = (df_small['sentiment'] == 'positive').sum()\n",
    "sentiment_counts['actual_negative'] = (df_small['sentiment'] == 'negative').sum()"
   ]
  },
  {
   "cell_type": "code",
   "execution_count": 19,
   "metadata": {},
   "outputs": [
    {
     "data": {
      "image/png": "[encoded data removed]",
      "text/plain": [
       "<Figure size 640x480 with 1 Axes>"
      ]
     },
     "metadata": {},
     "output_type": "display_data"
    }
   ],
   "source": [
    "sentiment_counts[['positive', 'negative']].plot(kind='bar', width=0.8)\n",
    "plt.title(\"Sentiment Analysis Results by Prompt\")\n",
    "plt.xlabel(\"Prompt\")\n",
    "plt.ylabel(\"Count\")\n",
    "plt.xticks(rotation=45)\n",
    "\n",
    "plt.axhline(y=sentiment_counts['actual_positive'][0], color='green', linestyle='--', label='Actual Positives')\n",
    "plt.axhline(y=sentiment_counts['actual_negative'][0], color='red', linestyle='--', label='Actual Negatives')\n",
    "\n",
    "plt.legend()\n",
    "plt.tight_layout()\n",
    "\n",
    "plt.show()\n"
   ]
  },
  {
   "cell_type": "code",
   "execution_count": 20,
   "metadata": {},
   "outputs": [
    {
     "name": "stdout",
     "output_type": "stream",
     "text": [
      "The prompt with the most mismatches is prompt3 with 2 mismatches.\n"
     ]
    }
   ],
   "source": [
    "#Find mismatches\n",
    "mismatch_counts = {}\n",
    "\n",
    "for i in range(1, 11): \n",
    "    column_name = f\"prompt{i}\"\n",
    "    \n",
    "    mismatches = df_small.apply(lambda row: row[column_name] != row['sentiment'], axis=1).sum()\n",
    "    \n",
    "    mismatch_counts[column_name] = mismatches\n",
    "\n",
    "max_mismatches_prompt = max(mismatch_counts, key=mismatch_counts.get)\n",
    "max_mismatches_count = mismatch_counts[max_mismatches_prompt]\n",
    "\n",
    "print(f\"The prompt with the most mismatches is {max_mismatches_prompt} with {max_mismatches_count} mismatches.\")\n"
   ]
  },
  {
   "cell_type": "code",
   "execution_count": null,
   "metadata": {},
   "outputs": [],
   "source": [
    "pip install -U scikit-learn"
   ]
  },
  {
   "cell_type": "code",
   "execution_count": 24,
   "metadata": {},
   "outputs": [
    {
     "name": "stdout",
     "output_type": "stream",
     "text": [
      "Unique values in 'sentiment' column: ['positive' 'negative']\n",
      "Unique values in 'prompt1' column: ['positive' 'negative']\n",
      "Unique values in 'prompt2' column: ['positive' 'negative']\n",
      "Unique values in 'prompt3' column: ['positive' 'negative']\n",
      "Unique values in 'prompt4' column: ['positive' 'negative']\n",
      "Unique values in 'prompt5' column: ['positive' 'negative']\n",
      "Unique values in 'prompt6' column: ['positive' 'negative' 'not']\n",
      "Unique values in 'prompt7' column: ['positive' 'negative']\n",
      "Unique values in 'prompt8' column: ['positive' 'negative']\n",
      "Unique values in 'prompt9' column: ['positive' 'negative']\n",
      "Unique values in 'prompt10' column: ['positive' 'negative' 'mixed' 'neutral']\n"
     ]
    }
   ],
   "source": [
    "print(\"Unique values in 'sentiment' column:\", df_small['sentiment'].unique())\n",
    "\n",
    "for i in range(1, 11):\n",
    "    column_name = f\"prompt{i}\"\n",
    "    print(f\"Unique values in '{column_name}' column:\", df_small[column_name].unique())\n"
   ]
  },
  {
   "cell_type": "code",
   "execution_count": 25,
   "metadata": {},
   "outputs": [],
   "source": [
    "from sklearn.metrics import f1_score\n",
    "import pandas as pd\n",
    "\n",
    "f1_scores = {}\n",
    "for i in range(1, 11):\n",
    "    column_name = f\"prompt{i}\"\n",
    "    # Creating a temporary DataFrame copy where non-binary values are set to None\n",
    "    temp_df = df_small.copy()\n",
    "    temp_df['sentiment'] = temp_df['sentiment'].apply(lambda x: x if x in ['positive', 'negative'] else None)\n",
    "    temp_df[column_name] = temp_df[column_name].apply(lambda x: x if x in ['positive', 'negative'] else None)\n",
    "    \n",
    "    # Filtering out rows where either the actual sentiment or the predicted sentiment is None\n",
    "    temp_df = temp_df.dropna(subset=['sentiment', column_name])\n",
    "    \n",
    "    score = f1_score(temp_df['sentiment'], temp_df[column_name], pos_label='positive', average='binary')\n",
    "    f1_scores[column_name] = score\n"
   ]
  },
  {
   "cell_type": "code",
   "execution_count": 26,
   "metadata": {},
   "outputs": [
    {
     "data": {
      "image/png": "[encoded data removed]",
      "text/plain": [
       "<Figure size 1000x600 with 1 Axes>"
      ]
     },
     "metadata": {},
     "output_type": "display_data"
    }
   ],
   "source": [
    "import matplotlib.pyplot as plt\n",
    "\n",
    "prompt_names = list(f1_scores.keys())\n",
    "\n",
    "scores = list(f1_scores.values())\n",
    "\n",
    "plt.figure(figsize=(10, 6))\n",
    "plt.bar(prompt_names, scores, color='skyblue')\n",
    "\n",
    "plt.xlabel('Prompt')\n",
    "plt.ylabel('F1 Score')\n",
    "plt.title('F1 Scores for Each Prompt')\n",
    "plt.xticks(rotation=45)  \n",
    "\n",
    "for i, score in enumerate(scores):\n",
    "    plt.text(i, score, f\"{score:.2f}\", ha='center')\n",
    "\n",
    "plt.tight_layout()\n",
    "plt.show()\n"
   ]
  },
  {
   "cell_type": "code",
   "execution_count": 27,
   "metadata": {},
   "outputs": [
    {
     "name": "stdout",
     "output_type": "stream",
     "text": [
      "The best prompts based on F1 score are prompt1, prompt4, prompt8, prompt9, prompt10 with an F1 score of 1.0000.\n"
     ]
    }
   ],
   "source": [
    "from sklearn.metrics import f1_score\n",
    "\n",
    "def find_best_prompt_based_on_f1(df, actual_sentiment_col, prompt_cols):\n",
    "    f1_scores = {}\n",
    "\n",
    "    \n",
    "    for col in prompt_cols:\n",
    "        \n",
    "        temp_df = df[(df[actual_sentiment_col].isin(['positive', 'negative'])) & (df[col].isin(['positive', 'negative']))]\n",
    "        \n",
    "        score = f1_score(temp_df[actual_sentiment_col], temp_df[col], pos_label='positive', average='binary')\n",
    "        f1_scores[col] = score\n",
    "\n",
    "    max_f1 = max(f1_scores.values())\n",
    "    \n",
    "    best_prompts = [prompt for prompt, score in f1_scores.items() if score == max_f1]\n",
    "\n",
    "    if len(best_prompts) == 1:\n",
    "        print(f\"The best prompt based on F1 score is {best_prompts[0]} with an F1 score of {max_f1:.4f}.\")\n",
    "    else:\n",
    "        print(f\"The best prompts based on F1 score are {', '.join(best_prompts)} with an F1 score of {max_f1:.4f}.\")\n",
    "\n",
    "\n",
    "prompt_cols = [f\"prompt{i}\" for i in range(1, 11)]  \n",
    "find_best_prompt_based_on_f1(df_small, 'sentiment', prompt_cols)\n"
   ]
  }
 ],
 "metadata": {
  "kernelspec": {
   "display_name": "myenv",
   "language": "python",
   "name": "myenv"
  },
  "language_info": {
   "codemirror_mode": {
    "name": "ipython",
    "version": 3
   },
   "file_extension": ".py",
   "mimetype": "text/x-python",
   "name": "python",
   "nbconvert_exporter": "python",
   "pygments_lexer": "ipython3",
   "version": "3.8.9"
  }
 },
 "nbformat": 4,
 "nbformat_minor": 2
}
