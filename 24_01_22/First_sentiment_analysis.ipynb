{
 "cells": [
  {
   "cell_type": "code",
   "execution_count": 1,
   "metadata": {},
   "outputs": [],
   "source": [
    "import os\n",
    "from dotenv import load_dotenv\n",
    "import openai\n",
    "import csv\n",
    "import pandas as pd\n",
    "from openai import OpenAI\n"
   ]
  },
  {
   "cell_type": "code",
   "execution_count": 2,
   "metadata": {},
   "outputs": [],
   "source": [
    "# Load environment variables\n",
    "load_dotenv()\n",
    "openai_api_key = os.getenv(\"OPENAI_API_KEY\")\n",
    "if not openai_api_key:\n",
    "    raise ValueError(\"No OpenAI API key found. Check your .env file.\")"
   ]
  },
  {
   "cell_type": "code",
   "execution_count": 3,
   "metadata": {},
   "outputs": [],
   "source": [
    "# Set the API key for OpenAI\n",
    "openai.api_key = openai_api_key"
   ]
  },
  {
   "cell_type": "code",
   "execution_count": 4,
   "metadata": {},
   "outputs": [],
   "source": [
    "reviews = [\n",
    "    \"Absolutely epic! Building this was like reliving my childhood dreams. Five stars!\",\n",
    "    \"The detail is amazing, but it took ages to assemble. Worth it though!\",\n",
    "    \"Missing pieces in my set. Frustrating experience. Only 2 stars.\",\n",
    "    \"Incredible design! My kids and I had a blast building it. Highly recommend.\",\n",
    "    \"It’s huge! Takes up too much space. Regret buying.\",\n",
    "    \"A true masterpiece for any Star Wars fan. A bit pricey but worth every penny.\",\n",
    "    \"The instructions were confusing. Not for the faint-hearted.\",\n",
    "    \"Halfway through, and it looks stunning. A challenging yet fun build.\",\n",
    "    \"Not for kids, too complex. It's more of an adult Lego set.\",\n",
    "    \"Love it! The perfect addition to my Star Wars collection!\",\n",
    "    \"Decent build, but I expected more interactive features.\",\n",
    "    \"Broke apart after a week. Poor quality for such an expensive set.\",\n",
    "    \"A journey through the galaxy! Building it was as epic as the movies.\",\n",
    "    \"Overrated. It's just a bunch of bricks at the end of the day.\",\n",
    "    \"Magical! Feels like I've built my own Death Star. May the force be with you!\",\n",
    "    \"Instructions were great, pieces fit perfectly. A rewarding build.\",\n",
    "    \"Expected more minifigures. Kind of disappointed.\",\n",
    "    \"Took longer to build than anticipated, but it's a showstopper in my room.\",\n",
    "    \"Okay, but there are better Lego sets out there.\",\n",
    "    \"Absolutely stunning once assembled, but prepare for a long building journey!\"\n",
    "]\n",
    "\n"
   ]
  },
  {
   "cell_type": "code",
   "execution_count": 11,
   "metadata": {},
   "outputs": [],
   "source": [
    "client = OpenAI()\n",
    "def analyze_sentiments_and_aspect(messages, model=\"gpt-3.5-turbo\", temperature=0, max_tokens=100):\n",
    "    response = client.chat.completions.create(\n",
    "        model=model,\n",
    "        messages=messages,\n",
    "        temperature=temperature, \n",
    "        max_tokens=max_tokens,\n",
    "    )\n",
    "\n",
    "    if response.choices and response.choices[0].message:\n",
    "        content = response.choices[0].message.content\n",
    "        # Splitting the response into sentiment and aspects parts\n",
    "        parts = content.split('\\n')  # Splitting at the newline character\n",
    "        sentiment_part = parts[0] if parts else \"Sentiment: No sentiment provided\"\n",
    "        aspect_part = parts[1] if len(parts) > 1 else \"Aspects: No aspects provided\"\n",
    "\n",
    "        # Extracting sentiment and aspects\n",
    "        sentiment = sentiment_part.replace('Sentiment:', '').strip()\n",
    "        aspects = aspect_part.replace('Aspects:', '').strip()\n",
    "\n",
    "        return sentiment, aspects\n",
    "    else:\n",
    "        return \"Invalid response\", \"Invalid response\"\n"
   ]
  },
  {
   "cell_type": "code",
   "execution_count": 12,
   "metadata": {},
   "outputs": [
    {
     "name": "stdout",
     "output_type": "stream",
     "text": [
      "                                               Review          Sentiment  \\\n",
      "0   Absolutely epic! Building this was like relivi...      Very positive   \n",
      "1   The detail is amazing, but it took ages to ass...      Very positive   \n",
      "2   Missing pieces in my set. Frustrating experien...      Very negative   \n",
      "3   Incredible design! My kids and I had a blast b...      Very positive   \n",
      "4   It’s huge! Takes up too much space. Regret buy...      Very negative   \n",
      "5   A true masterpiece for any Star Wars fan. A bi...      Very positive   \n",
      "6   The instructions were confusing. Not for the f...  Slightly negative   \n",
      "7   Halfway through, and it looks stunning. A chal...      Very positive   \n",
      "8   Not for kids, too complex. It's more of an adu...  Slightly negative   \n",
      "9   Love it! The perfect addition to my Star Wars ...      Very positive   \n",
      "10  Decent build, but I expected more interactive ...  Slightly negative   \n",
      "11  Broke apart after a week. Poor quality for suc...      Very negative   \n",
      "12  A journey through the galaxy! Building it was ...      Very positive   \n",
      "13  Overrated. It's just a bunch of bricks at the ...  Slightly negative   \n",
      "14  Magical! Feels like I've built my own Death St...      Very positive   \n",
      "15  Instructions were great, pieces fit perfectly....      Very positive   \n",
      "16   Expected more minifigures. Kind of disappointed.  Slightly negative   \n",
      "17  Took longer to build than anticipated, but it'...  Slightly positive   \n",
      "18    Okay, but there are better Lego sets out there.  Slightly negative   \n",
      "19  Absolutely stunning once assembled, but prepar...      Very positive   \n",
      "\n",
      "                                               Aspect  \n",
      "0            Building experience, Childhood nostalgia  \n",
      "1                         Detail is amazing, Worth it  \n",
      "2              Missing pieces, frustrating experience  \n",
      "3         Design, building experience, recommendation  \n",
      "4                                                Size  \n",
      "5   Masterpiece, Star Wars fan, pricey, worth ever...  \n",
      "6                                        Instructions  \n",
      "7          Stunning design, challenging and fun build  \n",
      "8                    Complexity, suitability for kids  \n",
      "9            Perfect addition to Star Wars collection  \n",
      "10                               Interactive features  \n",
      "11                        Poor quality, expensive set  \n",
      "12         Building experience, resemblance to movies  \n",
      "13                  Overrated, just a bunch of bricks  \n",
      "14  Magical, feels like building own Death Star, M...  \n",
      "15          Instructions, pieces fit, rewarding build  \n",
      "16                                        Minifigures  \n",
      "17                             Showstopper in my room  \n",
      "18                         Better Lego sets out there  \n",
      "19     Stunning once assembled, long building journey  \n"
     ]
    }
   ],
   "source": [
    "# Update the system message to request both sentiment and reasons\n",
    "delimiter = \"####\"\n",
    "system_message = f\"\"\"\n",
    "You will be provided with customer reviews of a Lego set. \\\n",
    "Your task is to classify the sentiment of each review and also collect aspects of what is good or bad, \\\n",
    "Always follow in the following structure: Sentiment: ... Aspects: ... \\\n",
    "The categories of sentiment are: Very positive, slightly positive, neutral, slightly negative, very negative. \\\n",
    "For the apsects you can build your own category. \\\n",
    "The review will be delimited with the following string: {delimiter}\n",
    "\"\"\"\n",
    "\n",
    "# Initialize an empty list to store review, sentiment, and reasons\n",
    "data = []\n",
    "\n",
    "# Analyze each review and store the results\n",
    "for review in reviews:\n",
    "    user_message = review\n",
    "    messages = [\n",
    "        {'role': 'system', 'content': system_message},\n",
    "        {'role': 'user', 'content': f\"{delimiter}{user_message}{delimiter}\"}\n",
    "    ]\n",
    "    sentiment, aspect = analyze_sentiments_and_aspect(messages)\n",
    "    data.append({'Review': review, 'Sentiment': sentiment, 'Aspect': aspect})\n",
    "\n",
    "# Convert the list of dictionaries to a DataFrame\n",
    "df = pd.DataFrame(data)\n",
    "\n",
    "# Display the DataFrame\n",
    "print(df)"
   ]
  },
  {
   "cell_type": "code",
   "execution_count": 13,
   "metadata": {},
   "outputs": [],
   "source": [
    "df.to_csv('sentiment_analysis_results4.csv', index=False)"
   ]
  },
  {
   "cell_type": "code",
   "execution_count": null,
   "metadata": {},
   "outputs": [],
   "source": []
  }
 ],
 "metadata": {
  "kernelspec": {
   "display_name": "myenv",
   "language": "python",
   "name": "myenv"
  },
  "language_info": {
   "codemirror_mode": {
    "name": "ipython",
    "version": 3
   },
   "file_extension": ".py",
   "mimetype": "text/x-python",
   "name": "python",
   "nbconvert_exporter": "python",
   "pygments_lexer": "ipython3",
   "version": "3.8.9"
  }
 },
 "nbformat": 4,
 "nbformat_minor": 2
}
